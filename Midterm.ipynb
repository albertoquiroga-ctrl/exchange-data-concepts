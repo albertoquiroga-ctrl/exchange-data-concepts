{
 "cells": [
  {
   "cell_type": "markdown",
   "id": "e08e722e",
   "metadata": {},
   "source": [
    "# Midterm"
   ]
  },
  {
   "cell_type": "markdown",
   "id": "d849aae4",
   "metadata": {},
   "source": [
    "- Alberto Daniel Quiroga Villalobos\n",
    "- ID: 25550047\n",
    "- 21/Oct/2025\n",
    "- Test Make-Up"
   ]
  }
 ],
 "metadata": {
  "language_info": {
   "name": "python"
  }
 },
 "nbformat": 4,
 "nbformat_minor": 5
}
