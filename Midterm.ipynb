{
 "cells": [
  {
   "cell_type": "markdown",
   "id": "e08e722e",
   "metadata": {},
   "source": [
    "# Midterm"
   ]
  },
  {
   "cell_type": "markdown",
   "id": "d849aae4",
   "metadata": {},
   "source": [
    "- Alberto Daniel Quiroga Villalobos\n",
    "- ID: 25550047\n",
    "- 21/Oct/2025\n",
    "- Test Make-Up"
   ]
  },
  {
   "cell_type": "markdown",
   "id": "da5f433e",
   "metadata": {},
   "source": [
    "1. This is an open-book test, which accounts for 20% of your total score.\n",
    "\n",
    "2. Total Score is 100.\n",
    "- Part I Binary and Multiple Choices Questions (36%)\n",
    "- Part II Descriptive Questions (20%)\n",
    "- Part III Empirical Questions (44%)\n",
    "3. Submission format.\n",
    "- Please organize all answers in one file (PDF, HTML or WORD) for submission.\n",
    "- For answers with Python, please report both the codes and results clearly.\n",
    "- For answers with manual calculation, please report all calculation steps clearly. "
   ]
  },
  {
   "cell_type": "markdown",
   "id": "e42bae63",
   "metadata": {},
   "source": [
    "## Part I. Binary and Multiple Choices Questions [36 Points]"
   ]
  },
  {
   "cell_type": "markdown",
   "id": "c978b00a",
   "metadata": {},
   "source": [
    "There are 23 questions in total, with only one correct answer for each question. Please organize your\n",
    "answers together with question number clearly."
   ]
  },
  {
   "cell_type": "markdown",
   "id": "7ad1bcc1",
   "metadata": {},
   "source": [
    "### (A) Binary Choice Questions [10 points @ 1 points each]"
   ]
  },
  {
   "cell_type": "markdown",
   "id": "3807fb31",
   "metadata": {},
   "source": [
    "#### Determine which is the best approach (A or B) for tasks in Question 1-5.\n",
    " -   A. supervised learning \n",
    " -   B. unsupervised learning"
   ]
  },
  {
   "cell_type": "markdown",
   "id": "c1ec8cba",
   "metadata": {},
   "source": [
    "1. Use outstanding balance and age to predict whether customers will default on the loan.\n",
    "- Answer: A. Supervised Learning"
   ]
  },
  {
   "cell_type": "markdown",
   "id": "05c35e4b",
   "metadata": {},
   "source": [
    "2. Separate customers into different groups based on their purchasing records and gender. \n",
    "- Answer: B. Unsupervised Learning"
   ]
  },
  {
   "cell_type": "markdown",
   "id": "6e0d49a1",
   "metadata": {},
   "source": [
    "3. Use sales revenue from the last quarter to predict sales revenue in next quarter.\n",
    "- Answer: A. Supervised Learning"
   ]
  },
  {
   "cell_type": "markdown",
   "id": "91087fa4",
   "metadata": {},
   "source": [
    "4. Group all staff into different types based on their job performance. \n",
    "- Answer: B. Unsupervised Learning"
   ]
  },
  {
   "cell_type": "markdown",
   "id": "701b6fb5",
   "metadata": {},
   "source": [
    "5. Separate credit card transactions into different types based on transaction time and location. \n",
    "- Answer: B. Unsupervised Learning"
   ]
  },
  {
   "cell_type": "markdown",
   "id": "48aa65a4",
   "metadata": {},
   "source": [
    "#### Determine whether the statements in Question 6 - 10 is\n",
    "- A. True\n",
    "- B. False "
   ]
  },
  {
   "cell_type": "markdown",
   "id": "c68ab1b2",
   "metadata": {},
   "source": [
    "6. Decision Tree models are non-parametric supervised learning method. \n",
    "- A. True"
   ]
  },
  {
   "cell_type": "markdown",
   "id": "97951879",
   "metadata": {},
   "source": [
    "7. Adding the complexity to a model usually increase its performance on test data. \n",
    "- B. False"
   ]
  },
  {
   "cell_type": "markdown",
   "id": "275787ba",
   "metadata": {},
   "source": [
    "8. Support-Vector Machines (SVMs) can model non-linear relationships with kernel functions.\n",
    "- A. True"
   ]
  },
  {
   "cell_type": "markdown",
   "id": "6484ba9b",
   "metadata": {},
   "source": [
    "9. Logistic regression is an unregularized model, it doesn’t control the coefficient size. \n",
    "- B. False"
   ]
  },
  {
   "cell_type": "markdown",
   "id": "8f9daca2",
   "metadata": {},
   "source": [
    "10. For SVMs, a smaller C value means stronger regularization on the coefficients.\n",
    "- A. True"
   ]
  },
  {
   "cell_type": "markdown",
   "id": "4425daef",
   "metadata": {},
   "source": [
    "### (B) Multiple Choice Questions [26 points @ 2 points each]"
   ]
  },
  {
   "cell_type": "markdown",
   "id": "f57c0d6d",
   "metadata": {},
   "source": [
    "11. In a Decision Tree model which predicts the risk level of customers, a leaf node contains 50\n",
    "training instances with different values of Risk Level, and the corresponding frequency as below. \n",
    "For an instance in this leaf node, what is the estimated “High Risk” probability for it if we\n",
    "adopt the Laplace Method? \n",
    "- High Risk 30\n",
    "- Medium Risk 10\n",
    "- Low Risk 10"
   ]
  },
  {
   "cell_type": "code",
   "execution_count": 1063,
   "id": "95dd062c",
   "metadata": {},
   "outputs": [
    {
     "name": "stdout",
     "output_type": "stream",
     "text": [
      "The Laplace corrected positive probability for High Risk is B. 0.596\n"
     ]
    }
   ],
   "source": [
    "N = 50  # Total in Leaf\n",
    "High_Risk = 30 # High Risk in Leaf\n",
    "\n",
    "def laplace_corrected(k, n):\n",
    "    return (k + 1) / (n + 2)\n",
    "\n",
    "Answer_Laplace = laplace_corrected(High_Risk, N)\n",
    "\n",
    "print(f\"The Laplace corrected positive probability for High Risk is B.{Answer_Laplace: .3f}\")"
   ]
  },
  {
   "cell_type": "markdown",
   "id": "39be590f",
   "metadata": {},
   "source": [
    "12. Common metrics used to evaluate a Linear Regression model are\n",
    "- D. R-Squared: the higher the better & Mean Squared Error: the lower the better"
   ]
  },
  {
   "cell_type": "markdown",
   "id": "4a4b3d92",
   "metadata": {},
   "source": [
    "13. If a Logistic Regression model is perfectly accurate on the training data (i.e., train error rate is\n",
    "zero), then\n",
    "- D. Test error rate tends to be non-zero "
   ]
  },
  {
   "cell_type": "markdown",
   "id": "30c7e335",
   "metadata": {},
   "source": [
    "14. Which of the following statements about the fitting graph is NOT correct? \n",
    "- D. It helps decide the complexity level for a model in order to achieve the best generalization\n",
    "performance. "
   ]
  },
  {
   "cell_type": "markdown",
   "id": "4d3bf311",
   "metadata": {},
   "source": [
    "15. Which of the following statements about model complexity is NOT true? \n",
    "- A. Complex model tends to take less time to be trained than simpler models "
   ]
  },
  {
   "cell_type": "markdown",
   "id": "235c431d",
   "metadata": {},
   "source": [
    "16. When training a decision tree model with the DecisionTreeClassifier function from scikit-learn,\n",
    "which of the following parameters can NOT be used to control tree size? \n",
    "- C. C "
   ]
  },
  {
   "cell_type": "markdown",
   "id": "87f24587",
   "metadata": {},
   "source": [
    "17. Logistic Regression is a ________ model used to predict a _____outcome. \n",
    "- B. linear, discrete   "
   ]
  },
  {
   "cell_type": "markdown",
   "id": "e5b4ce8c",
   "metadata": {},
   "source": [
    "18. Which of the following statements about Logistic Regression is NOT true? \n",
    "- C. The linear values (i.e., confidence scores) represent the odds of positive class\n",
    "membership."
   ]
  },
  {
   "cell_type": "markdown",
   "id": "168a6e04",
   "metadata": {},
   "source": [
    "19. Which of the following statements is NOT true about Support Vector Machine for classification ? \n",
    "- D. Instances violating the hyperplane will receive a smaller hinge loss than those violating\n",
    "their margin line only. "
   ]
  },
  {
   "cell_type": "markdown",
   "id": "178d5f79",
   "metadata": {},
   "source": [
    "20. In the following figure, the bold line in the middle represents the separating hyperplane and the two thin lines represent the margin lines of a SVM model; the circle is an training instance and the line connecting the circle to either the hyperplane or margin line is the distance. \n",
    "\n",
    "    For instance 𝑥𝑖, which distance does 𝒚𝒊 ∗ (𝒘𝟎 + 𝒘𝟏𝒙𝟏 + 𝒘𝟐𝒙𝟐) measure given ∑ 𝑤𝑗 2 2 𝑗=1 = 1?\n",
    "    Choose a proper distance from the following options. \n",
    "\n",
    "    (Note: 𝑦𝑖 = 1 when instance’s actual class is positive, otherwise 𝑦𝑖 = -1. )\n",
    "\n",
    "- C. \n"
   ]
  },
  {
   "cell_type": "markdown",
   "id": "b8483d88",
   "metadata": {},
   "source": [
    "#### You may need to type and run the following Python codes to answer Question 21-23."
   ]
  },
  {
   "cell_type": "code",
   "execution_count": 1064,
   "id": "7fdf8757",
   "metadata": {},
   "outputs": [],
   "source": [
    "import numpy as np\n",
    "import pandas as pd\n",
    "import matplotlib.pyplot as plt\n",
    "from sklearn.linear_model import LinearRegression\n",
    "from sklearn.model_selection import train_test_split, GridSearchCV\n",
    "from sklearn.preprocessing import MinMaxScaler\n",
    "from sklearn.svm import SVC\n",
    "from sklearn.metrics import accuracy_score, r2_score, mean_squared_error\n"
   ]
  },
  {
   "cell_type": "code",
   "execution_count": 1065,
   "id": "edaaf8ab",
   "metadata": {},
   "outputs": [],
   "source": [
    "np.random.seed(2025)\n",
    "x = np.random.normal(loc=3, scale=1, size=100)\n",
    "e = np.random.normal(loc=1, scale=1, size=100)\n",
    "y = 1 + 2 * x + e\n",
    "\n",
    "df = pd.DataFrame({'x': x, 'y': y})\n",
    "\n",
    "model = LinearRegression().fit(df[['x']], df['y'])"
   ]
  },
  {
   "cell_type": "markdown",
   "id": "1c91fa93",
   "metadata": {},
   "source": [
    "##### 21. Which of the following statements correctly describe variable 𝒙?"
   ]
  },
  {
   "cell_type": "code",
   "execution_count": 1066,
   "id": "c44747a7",
   "metadata": {},
   "outputs": [
    {
     "data": {
      "text/html": [
       "<div>\n",
       "<style scoped>\n",
       "    .dataframe tbody tr th:only-of-type {\n",
       "        vertical-align: middle;\n",
       "    }\n",
       "\n",
       "    .dataframe tbody tr th {\n",
       "        vertical-align: top;\n",
       "    }\n",
       "\n",
       "    .dataframe thead th {\n",
       "        text-align: right;\n",
       "    }\n",
       "</style>\n",
       "<table border=\"1\" class=\"dataframe\">\n",
       "  <thead>\n",
       "    <tr style=\"text-align: right;\">\n",
       "      <th></th>\n",
       "      <th>x</th>\n",
       "      <th>y</th>\n",
       "    </tr>\n",
       "  </thead>\n",
       "  <tbody>\n",
       "    <tr>\n",
       "      <th>0</th>\n",
       "      <td>2.907610</td>\n",
       "      <td>9.250657</td>\n",
       "    </tr>\n",
       "    <tr>\n",
       "      <th>1</th>\n",
       "      <td>3.734286</td>\n",
       "      <td>11.195481</td>\n",
       "    </tr>\n",
       "    <tr>\n",
       "      <th>2</th>\n",
       "      <td>1.561118</td>\n",
       "      <td>4.481175</td>\n",
       "    </tr>\n",
       "    <tr>\n",
       "      <th>3</th>\n",
       "      <td>2.336578</td>\n",
       "      <td>7.507287</td>\n",
       "    </tr>\n",
       "    <tr>\n",
       "      <th>4</th>\n",
       "      <td>2.899272</td>\n",
       "      <td>8.354393</td>\n",
       "    </tr>\n",
       "  </tbody>\n",
       "</table>\n",
       "</div>"
      ],
      "text/plain": [
       "          x          y\n",
       "0  2.907610   9.250657\n",
       "1  3.734286  11.195481\n",
       "2  1.561118   4.481175\n",
       "3  2.336578   7.507287\n",
       "4  2.899272   8.354393"
      ]
     },
     "metadata": {},
     "output_type": "display_data"
    }
   ],
   "source": [
    "display(df.head())\n"
   ]
  },
  {
   "cell_type": "code",
   "execution_count": 1067,
   "id": "cc7e1bca",
   "metadata": {},
   "outputs": [
    {
     "data": {
      "text/plain": [
       "np.float64(2.850132749803777)"
      ]
     },
     "execution_count": 1067,
     "metadata": {},
     "output_type": "execute_result"
    }
   ],
   "source": [
    "np.mean(x)"
   ]
  },
  {
   "cell_type": "code",
   "execution_count": 1068,
   "id": "c264b2de",
   "metadata": {},
   "outputs": [
    {
     "data": {
      "text/plain": [
       "np.float64(0.9257495806185922)"
      ]
     },
     "execution_count": 1068,
     "metadata": {},
     "output_type": "execute_result"
    }
   ],
   "source": [
    "np.std(x)"
   ]
  },
  {
   "cell_type": "code",
   "execution_count": 1069,
   "id": "62dc9614",
   "metadata": {},
   "outputs": [
    {
     "data": {
      "text/plain": [
       "(100,)"
      ]
     },
     "execution_count": 1069,
     "metadata": {},
     "output_type": "execute_result"
    }
   ],
   "source": [
    "np.shape(x)"
   ]
  },
  {
   "cell_type": "markdown",
   "id": "47d69fac",
   "metadata": {},
   "source": [
    "- Answer: C. 𝒙 is a 1-dimensional array with 100 numbers randomly drawn from a normal distribution with mean as 3 and standard deviation as 1."
   ]
  },
  {
   "cell_type": "markdown",
   "id": "18e4d99f",
   "metadata": {},
   "source": [
    "##### 22. Which of the following statements is NOT correct regarding the 𝑅2 of a regression model?\n",
    "- A. 𝑅2 score measures the proportion of sum of squared residual to total sum of squares in 𝑦. "
   ]
  },
  {
   "cell_type": "markdown",
   "id": "7233e0b7",
   "metadata": {},
   "source": [
    "##### 23. Which of the following statements is NOT correct regarding the Mean Squared Error (MSE)? \n",
    "- D. The smaller MSE is on the test data, the worse the model’s generalization performance is. "
   ]
  },
  {
   "cell_type": "markdown",
   "id": "89b0da01",
   "metadata": {},
   "source": [
    "## Part II. Descriptive Questions [20 points@ 10 points each]"
   ]
  },
  {
   "cell_type": "markdown",
   "id": "ab846d11",
   "metadata": {},
   "source": [
    "#### 1. Model Training: What is Logistic Regression? Take binary classification as an example, describe how the algorithm find the optimal parameter values and estimate class probabilities?\n",
    "_(max: 200 words)_"
   ]
  },
  {
   "cell_type": "markdown",
   "id": "84ec0fc7",
   "metadata": {},
   "source": [
    "Logistic Regression (Binary Classification)\n",
    "Logistic regression is a supervised machine learning algorithm used for binary classification. It models the probability of a binary outcome (e.g., 0 or 1, yes or no) based on one or more independent variables. \n",
    "\n",
    "For binary classification, the algorithm first calculates a linear combination of input features and their corresponding weights (coefficients) and a bias term, similar to linear regression. This result is then passed through a sigmoid (logistic) function, which squashes the output into a probability between 0 and 1.\n",
    "\n",
    "The optimal parameter values (weights and bias) are found using an optimization algorithm like gradient descent. The goal is to minimize a loss function, typically the Log Loss (or binary cross-entropy), which measures the discrepancy between the predicted probabilities and the actual binary labels. Gradient descent iteratively adjusts the parameters in the direction that reduces the loss, eventually converging to a set of parameters that best fit the data.\n",
    "\n",
    "Once the optimal parameters are determined, the model estimates class probabilities by plugging new input features into the linear combination and then applying the sigmoid function. A threshold (commonly 0.5) is then used to classify the instance into one of the two binary classes. If the estimated probability is above the threshold, it's classified as the positive class (1); otherwise, it's the negative class (0).\n"
   ]
  },
  {
   "cell_type": "markdown",
   "id": "c9b53756",
   "metadata": {},
   "source": [
    "#### 2. Model Evaluation: What is overfitting and why it is harmful? How to avoid overfitting in a systematic way? \n",
    "_(max: 200 words)_"
   ]
  },
  {
   "cell_type": "markdown",
   "id": "1ee9380b",
   "metadata": {},
   "source": [
    "What is overfitting?\n",
    "- Overfitting means creating a model that matches (memorizes) the training set so closely that the model fails to make correct predictions on new data. An overfit model is analogous to an invention that performs well in the lab but is worthless in the real world."
   ]
  },
  {
   "cell_type": "markdown",
   "id": "284db6b9",
   "metadata": {},
   "source": [
    "Why it is harmful?\n",
    "- A model must make good predictions on new data. That is, you're aiming to create a model that \"fits\" new data. As you've seen, an overfit model makes excellent predictions on the training set but poor predictions on new data. An underfit model doesn't even make good predictions on the training data."
   ]
  },
  {
   "cell_type": "markdown",
   "id": "871cda37",
   "metadata": {},
   "source": [
    "How to avoid overfitting in a systematic way?\n",
    "- Either holding out data\n",
    "    - Meaning spliting the data into training and test sets or, \n",
    "- cross validating \n",
    "    - Meaning splitting the data into k sets and then running the model multiple times with each set."
   ]
  },
  {
   "cell_type": "markdown",
   "id": "8691935f",
   "metadata": {},
   "source": [
    "## Part III. Empirical Questions [44 Points] "
   ]
  },
  {
   "cell_type": "markdown",
   "id": "9adb5090",
   "metadata": {},
   "source": [
    "### 1. Logistic Regression [8 points @ 4 points each]\n",
    "A sample of 580 customers whose decision on purchasing a house and 𝑖𝑛𝑐𝑜𝑚𝑒 was collected. \n",
    "- A researcher uses 𝑖𝑛𝑐𝑜𝑚𝑒 to predict  customers’ decision (𝑦 = 1 if the customer will buy, 𝑦 = 0 if not) with a logistic regression model. \n",
    "- The model returns the optimized parameters 𝑤0 = −1.5 and 𝑤1 = 0.15, i.e. 𝑓(𝑥) = − 1.5 + 0.15 * 𝑖𝑛𝑐𝑜𝑚𝑒.\n",
    "\n",
    "_Please answer the following questions with Python or manual calculation._"
   ]
  },
  {
   "cell_type": "markdown",
   "id": "2ea29ba1",
   "metadata": {},
   "source": [
    "#### A. What is the probability that a customer will buy a house if his/her 𝑖𝑛𝑐𝑜𝑚𝑒 is 20? \n",
    "_Round the result to 2 decimal places._"
   ]
  },
  {
   "cell_type": "code",
   "execution_count": 1070,
   "id": "939b9911",
   "metadata": {},
   "outputs": [
    {
     "name": "stdout",
     "output_type": "stream",
     "text": [
      "The probability that a customer will buy a house if his/her 𝑖𝑛𝑐𝑜𝑚𝑒 is 20 is: 0.82\n"
     ]
    }
   ],
   "source": [
    "w0 = -1.5\n",
    "w1 = 0.15\n",
    "x = 20\n",
    "log_odds = w0 + w1 * x\n",
    "p = 1 / (1 + np.exp(-log_odds))\n",
    "print(f\"The probability that a customer will buy a house if his/her 𝑖𝑛𝑐𝑜𝑚𝑒 is 20 is:{p: .2f}\")"
   ]
  },
  {
   "cell_type": "markdown",
   "id": "d029f419",
   "metadata": {},
   "source": [
    "#### B. What is the predicted decision for this customer? "
   ]
  },
  {
   "cell_type": "markdown",
   "id": "07d0447b",
   "metadata": {},
   "source": [
    "- Since .82 > .5 \n",
    "- The model predicts that this customer will buy a house"
   ]
  },
  {
   "cell_type": "markdown",
   "id": "3fe8656a",
   "metadata": {},
   "source": [
    "### 2. Data Generation and Visualization [16 points @ 4 points each]\n",
    "_Use Python to complete the following tasks._"
   ]
  },
  {
   "cell_type": "markdown",
   "id": "f149ea25",
   "metadata": {},
   "source": [
    "#### A. Create 100 numbers evenly spaced between in the range [0, 10), with step size as 0.1. \n",
    "Save them in a variable named 𝒙𝟏. (Note: 10 shall not be included.)\n"
   ]
  },
  {
   "cell_type": "code",
   "execution_count": 1071,
   "id": "558a921a",
   "metadata": {},
   "outputs": [
    {
     "data": {
      "text/plain": [
       "(100,)"
      ]
     },
     "execution_count": 1071,
     "metadata": {},
     "output_type": "execute_result"
    }
   ],
   "source": [
    "x1 = np.arange(0, 10, 0.1)\n",
    "df = pd.DataFrame({'x1': x1})\n",
    "np.shape(x1)"
   ]
  },
  {
   "cell_type": "code",
   "execution_count": 1072,
   "id": "26202791",
   "metadata": {},
   "outputs": [
    {
     "data": {
      "text/html": [
       "<div>\n",
       "<style scoped>\n",
       "    .dataframe tbody tr th:only-of-type {\n",
       "        vertical-align: middle;\n",
       "    }\n",
       "\n",
       "    .dataframe tbody tr th {\n",
       "        vertical-align: top;\n",
       "    }\n",
       "\n",
       "    .dataframe thead th {\n",
       "        text-align: right;\n",
       "    }\n",
       "</style>\n",
       "<table border=\"1\" class=\"dataframe\">\n",
       "  <thead>\n",
       "    <tr style=\"text-align: right;\">\n",
       "      <th></th>\n",
       "      <th>x1</th>\n",
       "    </tr>\n",
       "  </thead>\n",
       "  <tbody>\n",
       "    <tr>\n",
       "      <th>0</th>\n",
       "      <td>0.0</td>\n",
       "    </tr>\n",
       "    <tr>\n",
       "      <th>1</th>\n",
       "      <td>0.1</td>\n",
       "    </tr>\n",
       "    <tr>\n",
       "      <th>2</th>\n",
       "      <td>0.2</td>\n",
       "    </tr>\n",
       "    <tr>\n",
       "      <th>3</th>\n",
       "      <td>0.3</td>\n",
       "    </tr>\n",
       "    <tr>\n",
       "      <th>4</th>\n",
       "      <td>0.4</td>\n",
       "    </tr>\n",
       "  </tbody>\n",
       "</table>\n",
       "</div>"
      ],
      "text/plain": [
       "    x1\n",
       "0  0.0\n",
       "1  0.1\n",
       "2  0.2\n",
       "3  0.3\n",
       "4  0.4"
      ]
     },
     "metadata": {},
     "output_type": "display_data"
    }
   ],
   "source": [
    "display(df.head())"
   ]
  },
  {
   "cell_type": "markdown",
   "id": "f2aa8393",
   "metadata": {},
   "source": [
    "#### B. Apply natural exponential transformation to 𝒙𝟏 values, save the transformed values as variable 𝒙𝟐."
   ]
  },
  {
   "cell_type": "code",
   "execution_count": 1073,
   "id": "d7612032",
   "metadata": {},
   "outputs": [
    {
     "data": {
      "text/plain": [
       "(100,)"
      ]
     },
     "execution_count": 1073,
     "metadata": {},
     "output_type": "execute_result"
    }
   ],
   "source": [
    "x2 = np.exp(x1)\n",
    "df2 = pd.DataFrame({'x2': x2})\n",
    "np.shape(x2)"
   ]
  },
  {
   "cell_type": "code",
   "execution_count": 1074,
   "id": "9237a030",
   "metadata": {},
   "outputs": [
    {
     "data": {
      "text/html": [
       "<div>\n",
       "<style scoped>\n",
       "    .dataframe tbody tr th:only-of-type {\n",
       "        vertical-align: middle;\n",
       "    }\n",
       "\n",
       "    .dataframe tbody tr th {\n",
       "        vertical-align: top;\n",
       "    }\n",
       "\n",
       "    .dataframe thead th {\n",
       "        text-align: right;\n",
       "    }\n",
       "</style>\n",
       "<table border=\"1\" class=\"dataframe\">\n",
       "  <thead>\n",
       "    <tr style=\"text-align: right;\">\n",
       "      <th></th>\n",
       "      <th>x2</th>\n",
       "    </tr>\n",
       "  </thead>\n",
       "  <tbody>\n",
       "    <tr>\n",
       "      <th>0</th>\n",
       "      <td>1.000000</td>\n",
       "    </tr>\n",
       "    <tr>\n",
       "      <th>1</th>\n",
       "      <td>1.105171</td>\n",
       "    </tr>\n",
       "    <tr>\n",
       "      <th>2</th>\n",
       "      <td>1.221403</td>\n",
       "    </tr>\n",
       "    <tr>\n",
       "      <th>3</th>\n",
       "      <td>1.349859</td>\n",
       "    </tr>\n",
       "    <tr>\n",
       "      <th>4</th>\n",
       "      <td>1.491825</td>\n",
       "    </tr>\n",
       "  </tbody>\n",
       "</table>\n",
       "</div>"
      ],
      "text/plain": [
       "         x2\n",
       "0  1.000000\n",
       "1  1.105171\n",
       "2  1.221403\n",
       "3  1.349859\n",
       "4  1.491825"
      ]
     },
     "execution_count": 1074,
     "metadata": {},
     "output_type": "execute_result"
    }
   ],
   "source": [
    "df2.head()"
   ]
  },
  {
   "cell_type": "markdown",
   "id": "28467aa6",
   "metadata": {},
   "source": [
    "#### C. Save the two variables in a data frame named 𝒅𝒇, check the mean value for each variable."
   ]
  },
  {
   "cell_type": "code",
   "execution_count": 1075,
   "id": "a0f8205d",
   "metadata": {},
   "outputs": [
    {
     "name": "stdout",
     "output_type": "stream",
     "text": [
      "(100, 2)\n",
      "The mean of x1 is:  4.95\n",
      "The mean of x2 is:  2094.25\n"
     ]
    },
    {
     "data": {
      "text/html": [
       "<div>\n",
       "<style scoped>\n",
       "    .dataframe tbody tr th:only-of-type {\n",
       "        vertical-align: middle;\n",
       "    }\n",
       "\n",
       "    .dataframe tbody tr th {\n",
       "        vertical-align: top;\n",
       "    }\n",
       "\n",
       "    .dataframe thead th {\n",
       "        text-align: right;\n",
       "    }\n",
       "</style>\n",
       "<table border=\"1\" class=\"dataframe\">\n",
       "  <thead>\n",
       "    <tr style=\"text-align: right;\">\n",
       "      <th></th>\n",
       "      <th>x1</th>\n",
       "      <th>x2</th>\n",
       "    </tr>\n",
       "  </thead>\n",
       "  <tbody>\n",
       "    <tr>\n",
       "      <th>0</th>\n",
       "      <td>0.0</td>\n",
       "      <td>1.000000</td>\n",
       "    </tr>\n",
       "    <tr>\n",
       "      <th>1</th>\n",
       "      <td>0.1</td>\n",
       "      <td>1.105171</td>\n",
       "    </tr>\n",
       "    <tr>\n",
       "      <th>2</th>\n",
       "      <td>0.2</td>\n",
       "      <td>1.221403</td>\n",
       "    </tr>\n",
       "    <tr>\n",
       "      <th>3</th>\n",
       "      <td>0.3</td>\n",
       "      <td>1.349859</td>\n",
       "    </tr>\n",
       "    <tr>\n",
       "      <th>4</th>\n",
       "      <td>0.4</td>\n",
       "      <td>1.491825</td>\n",
       "    </tr>\n",
       "  </tbody>\n",
       "</table>\n",
       "</div>"
      ],
      "text/plain": [
       "    x1        x2\n",
       "0  0.0  1.000000\n",
       "1  0.1  1.105171\n",
       "2  0.2  1.221403\n",
       "3  0.3  1.349859\n",
       "4  0.4  1.491825"
      ]
     },
     "execution_count": 1075,
     "metadata": {},
     "output_type": "execute_result"
    }
   ],
   "source": [
    "df3 = pd.DataFrame({'x1': x1, 'x2': x2})\n",
    "print(df3.shape)\n",
    "print(f\"The mean of x1 is: {df3['x1'].mean(): .2f}\")\n",
    "print(f\"The mean of x2 is: {df3['x2'].mean(): .2f}\")\n",
    "df3.head()"
   ]
  },
  {
   "cell_type": "markdown",
   "id": "9b141661",
   "metadata": {},
   "source": [
    "#### D. Visualize the relationship between 𝒙𝟏 and 𝒙𝟐 with a scatterplot, with 𝒙𝟏 values displayed on the 𝑥 axis and 𝒙𝟐 values on the 𝑦 axis. Set the point color of as ‘gold’, add axis labels and plot title. "
   ]
  },
  {
   "cell_type": "code",
   "execution_count": 1076,
   "id": "3043c23e",
   "metadata": {},
   "outputs": [
    {
     "data": {
      "image/png": "[encoded data removed]",
      "text/plain": [
       "<Figure size 1000x600 with 1 Axes>"
      ]
     },
     "metadata": {},
     "output_type": "display_data"
    }
   ],
   "source": [
    "plt.figure(figsize=(10, 6))\n",
    "plt.scatter(df3['x1'], df3['x2'], color='gold')\n",
    "plt.title('Scatterplot of x1 vs x2')\n",
    "plt.xlabel('x1')\n",
    "plt.ylabel('x2')\n",
    "plt.show()"
   ]
  },
  {
   "cell_type": "markdown",
   "id": "41806995",
   "metadata": {},
   "source": [
    "### 3. SVM: Programming [20 points]\n",
    "The Wisconsin Breast Cancer dataset from scikit-learn package contains 30 features and 1 target\n",
    "variable for 569 patients. The features records different characteristics of a patient’s tumour,\n",
    "while the target variable refers to the diagnosis: 0 means benign, 1 means malignant. "
   ]
  },
  {
   "cell_type": "code",
   "execution_count": 1077,
   "id": "344f8649",
   "metadata": {},
   "outputs": [
    {
     "data": {
      "text/plain": [
       "(569, 5)"
      ]
     },
     "metadata": {},
     "output_type": "display_data"
    },
    {
     "data": {
      "text/plain": [
       "(569,)"
      ]
     },
     "metadata": {},
     "output_type": "display_data"
    },
    {
     "data": {
      "text/html": [
       "<div>\n",
       "<style scoped>\n",
       "    .dataframe tbody tr th:only-of-type {\n",
       "        vertical-align: middle;\n",
       "    }\n",
       "\n",
       "    .dataframe tbody tr th {\n",
       "        vertical-align: top;\n",
       "    }\n",
       "\n",
       "    .dataframe thead th {\n",
       "        text-align: right;\n",
       "    }\n",
       "</style>\n",
       "<table border=\"1\" class=\"dataframe\">\n",
       "  <thead>\n",
       "    <tr style=\"text-align: right;\">\n",
       "      <th></th>\n",
       "      <th>mean radius</th>\n",
       "      <th>mean texture</th>\n",
       "      <th>mean perimeter</th>\n",
       "      <th>mean area</th>\n",
       "      <th>mean smoothness</th>\n",
       "    </tr>\n",
       "  </thead>\n",
       "  <tbody>\n",
       "    <tr>\n",
       "      <th>0</th>\n",
       "      <td>17.99</td>\n",
       "      <td>10.38</td>\n",
       "      <td>122.80</td>\n",
       "      <td>1001.0</td>\n",
       "      <td>0.11840</td>\n",
       "    </tr>\n",
       "    <tr>\n",
       "      <th>1</th>\n",
       "      <td>20.57</td>\n",
       "      <td>17.77</td>\n",
       "      <td>132.90</td>\n",
       "      <td>1326.0</td>\n",
       "      <td>0.08474</td>\n",
       "    </tr>\n",
       "    <tr>\n",
       "      <th>2</th>\n",
       "      <td>19.69</td>\n",
       "      <td>21.25</td>\n",
       "      <td>130.00</td>\n",
       "      <td>1203.0</td>\n",
       "      <td>0.10960</td>\n",
       "    </tr>\n",
       "    <tr>\n",
       "      <th>3</th>\n",
       "      <td>11.42</td>\n",
       "      <td>20.38</td>\n",
       "      <td>77.58</td>\n",
       "      <td>386.1</td>\n",
       "      <td>0.14250</td>\n",
       "    </tr>\n",
       "    <tr>\n",
       "      <th>4</th>\n",
       "      <td>20.29</td>\n",
       "      <td>14.34</td>\n",
       "      <td>135.10</td>\n",
       "      <td>1297.0</td>\n",
       "      <td>0.10030</td>\n",
       "    </tr>\n",
       "  </tbody>\n",
       "</table>\n",
       "</div>"
      ],
      "text/plain": [
       "   mean radius  mean texture  mean perimeter  mean area  mean smoothness\n",
       "0        17.99         10.38          122.80     1001.0          0.11840\n",
       "1        20.57         17.77          132.90     1326.0          0.08474\n",
       "2        19.69         21.25          130.00     1203.0          0.10960\n",
       "3        11.42         20.38           77.58      386.1          0.14250\n",
       "4        20.29         14.34          135.10     1297.0          0.10030"
      ]
     },
     "metadata": {},
     "output_type": "display_data"
    },
    {
     "data": {
      "text/plain": [
       "0    0\n",
       "1    0\n",
       "2    0\n",
       "3    0\n",
       "4    0\n",
       "Name: target, dtype: int64"
      ]
     },
     "metadata": {},
     "output_type": "display_data"
    }
   ],
   "source": [
    "from sklearn.datasets import load_breast_cancer\n",
    "X, y = load_breast_cancer(return_X_y= True, as_frame = True)\n",
    "X = X[['mean radius', 'mean texture', 'mean perimeter', 'mean area', 'mean smoothness']]\n",
    "display (X.shape, y.shape)\n",
    "display(X.head(), y.head())"
   ]
  },
  {
   "cell_type": "markdown",
   "id": "3c535ff9",
   "metadata": {},
   "source": [
    "_Please type and run the above codes to obtain data, select 5 features (𝑿) and the target variable (𝒚). Use the selected data to answer the following questions with Python._"
   ]
  },
  {
   "cell_type": "markdown",
   "id": "b3199ab3",
   "metadata": {},
   "source": [
    "#### A. [3 points] Split the data into train (80%) and test (20%) sets, with random_state = 2025. How many instances are there in the train and test set respectively? "
   ]
  },
  {
   "cell_type": "code",
   "execution_count": 1078,
   "id": "9b2a5677",
   "metadata": {},
   "outputs": [
    {
     "name": "stdout",
     "output_type": "stream",
     "text": [
      "There are  455 instances in the train set and  114 instances in the test set.\n"
     ]
    }
   ],
   "source": [
    "X_train, X_test, y_train, y_test = train_test_split(X, y, test_size=0.2, random_state=2025)\n",
    "print(f\"There are {X_train.shape[0]: .0f} instances in the train set and {X_test.shape[0]: .0f} instances in the test set.\")"
   ]
  },
  {
   "cell_type": "markdown",
   "id": "ad71d31d",
   "metadata": {},
   "source": [
    "#### B. [5 points] Scale the features with the MinMaxScaler. After scaling, what are the minimum and maximum values for test features respectively? Why none of the minimum values is 0 and none of the maximum values is 1? "
   ]
  },
  {
   "cell_type": "code",
   "execution_count": 1079,
   "id": "20054536",
   "metadata": {},
   "outputs": [
    {
     "name": "stdout",
     "output_type": "stream",
     "text": [
      "The minimum value is -0.03 and the maximum value is  0.88.\n"
     ]
    }
   ],
   "source": [
    "scaler = MinMaxScaler()\n",
    "X_train_scaled = scaler.fit_transform(X_train)\n",
    "X_test_scaled  = scaler.transform(X_test)\n",
    "print(f\"The minimum value is {round(X_test_scaled.min(), 2): .2f} and the maximum value is {round(X_test_scaled.max(), 2): .2f}.\")"
   ]
  },
  {
   "cell_type": "markdown",
   "id": "5b508335",
   "metadata": {},
   "source": [
    "Why none of the minimum values is 0 and none of the maximum values is 1? \n",
    "- Because scaler uses train min/max only; Its highly unlikely that we got \"lucky\" and have the min and the max vvalue inside the training set, thats why test can fall outside that range."
   ]
  },
  {
   "cell_type": "markdown",
   "id": "012b66a1",
   "metadata": {},
   "source": [
    "#### C. [5 points] With the scaled data from step (B), train two linear SVM models using the SVC function from the scikit-learn package, set 𝐶 value as 0.1 and 100 respectively. Check the two models’ performance on both train and test set, round the results to 2 decimal places. Which model is better and why?"
   ]
  },
  {
   "cell_type": "code",
   "execution_count": 1080,
   "id": "3724eb7f",
   "metadata": {},
   "outputs": [
    {
     "data": {
      "text/html": [
       "<div>\n",
       "<style scoped>\n",
       "    .dataframe tbody tr th:only-of-type {\n",
       "        vertical-align: middle;\n",
       "    }\n",
       "\n",
       "    .dataframe tbody tr th {\n",
       "        vertical-align: top;\n",
       "    }\n",
       "\n",
       "    .dataframe thead th {\n",
       "        text-align: right;\n",
       "    }\n",
       "</style>\n",
       "<table border=\"1\" class=\"dataframe\">\n",
       "  <thead>\n",
       "    <tr style=\"text-align: right;\">\n",
       "      <th></th>\n",
       "      <th>C Value</th>\n",
       "      <th>Train Accuracy</th>\n",
       "      <th>Test Accuracy</th>\n",
       "    </tr>\n",
       "  </thead>\n",
       "  <tbody>\n",
       "    <tr>\n",
       "      <th>0</th>\n",
       "      <td>0.1</td>\n",
       "      <td>0.87</td>\n",
       "      <td>0.89</td>\n",
       "    </tr>\n",
       "    <tr>\n",
       "      <th>1</th>\n",
       "      <td>100.0</td>\n",
       "      <td>0.92</td>\n",
       "      <td>0.96</td>\n",
       "    </tr>\n",
       "  </tbody>\n",
       "</table>\n",
       "</div>"
      ],
      "text/plain": [
       "   C Value  Train Accuracy  Test Accuracy\n",
       "0      0.1            0.87           0.89\n",
       "1    100.0            0.92           0.96"
      ]
     },
     "metadata": {},
     "output_type": "display_data"
    },
    {
     "name": "stdout",
     "output_type": "stream",
     "text": [
      "The model with C=100 is better because it has higher accuracy on both train and test sets.\n"
     ]
    }
   ],
   "source": [
    "svm01  = SVC(kernel='linear', C=0.1,  random_state=2025)\n",
    "svm100 = SVC(kernel='linear', C=100,  random_state=2025)\n",
    "svm01.fit(X_train_scaled, y_train)\n",
    "svm100.fit(X_train_scaled, y_train)\n",
    "acc_tr_01 = round(accuracy_score(y_train, svm01.predict(X_train_scaled)), 2)\n",
    "acc_te_01 = round(accuracy_score(y_test,  svm01.predict(X_test_scaled)),  2)\n",
    "acc_tr_100 = round(accuracy_score(y_train, svm100.predict(X_train_scaled)), 2)\n",
    "acc_te_100 = round(accuracy_score(y_test,  svm100.predict(X_test_scaled)),  2)\n",
    "df_results = pd.DataFrame({\n",
    "    'C Value': [0.1, 100],\n",
    "    'Train Accuracy': [acc_tr_01, acc_tr_100],\n",
    "    'Test Accuracy': [acc_te_01, acc_te_100]\n",
    "})\n",
    "display(df_results)\n",
    "print(\"The model with C=100 is better because it has higher accuracy on both train and test sets.\")"
   ]
  },
  {
   "cell_type": "markdown",
   "id": "d068faae",
   "metadata": {},
   "source": [
    "#### D. [7 points] Among the ten 𝐶 values [0.001, 0.01, 0.1, 1, 10, 50, 100, 150, 200, 500], which is the best for the Linear SVM model on this dataset? Please use the scaled training data from step (B) and Grid Search with 5-fold Cross Validation to find the best 𝐶 value. Answer the following questions: (1) what is the best 𝐶 value found? (2) what is the average generalization performance of the best 𝐶 value in the cross-validation process? (3) what is the generalization performance of the best model (refitted on the training data with the best 𝐶 value found in cross-validation)? Round results to 2 decimal places. "
   ]
  },
  {
   "cell_type": "code",
   "execution_count": 1081,
   "id": "b69d6a11",
   "metadata": {},
   "outputs": [
    {
     "name": "stdout",
     "output_type": "stream",
     "text": [
      "Test accuracy = 0.93\n"
     ]
    },
    {
     "data": {
      "text/html": [
       "<div>\n",
       "<style scoped>\n",
       "    .dataframe tbody tr th:only-of-type {\n",
       "        vertical-align: middle;\n",
       "    }\n",
       "\n",
       "    .dataframe tbody tr th {\n",
       "        vertical-align: top;\n",
       "    }\n",
       "\n",
       "    .dataframe thead th {\n",
       "        text-align: right;\n",
       "    }\n",
       "</style>\n",
       "<table border=\"1\" class=\"dataframe\">\n",
       "  <thead>\n",
       "    <tr style=\"text-align: right;\">\n",
       "      <th></th>\n",
       "      <th>Best C Value</th>\n",
       "      <th>CV Mean Score</th>\n",
       "      <th>Test Accuracy</th>\n",
       "    </tr>\n",
       "  </thead>\n",
       "  <tbody>\n",
       "    <tr>\n",
       "      <th>0</th>\n",
       "      <td>1</td>\n",
       "      <td>0.92</td>\n",
       "      <td>0.93</td>\n",
       "    </tr>\n",
       "  </tbody>\n",
       "</table>\n",
       "</div>"
      ],
      "text/plain": [
       "   Best C Value  CV Mean Score  Test Accuracy\n",
       "0             1           0.92           0.93"
      ]
     },
     "metadata": {},
     "output_type": "display_data"
    },
    {
     "name": "stdout",
     "output_type": "stream",
     "text": [
      "The best C value found is 1, with a CV mean score of 0.92.\n",
      "The generalization performance of the best model (refitted on the training data with the best 𝐶 value found in cross-validation) is 0.93.\n"
     ]
    }
   ],
   "source": [
    "param_grid = {'C': [0.001, 0.01, 0.1, 1, 10, 50, 100, 150, 200, 500]}\n",
    "svc = SVC(kernel='linear')\n",
    "grid = GridSearchCV(svc, param_grid=param_grid, cv=5)\n",
    "grid.fit(X_train_scaled, y_train)\n",
    "y_pred_best = grid.best_estimator_.predict(X_test_scaled)\n",
    "print('Test accuracy =', round(accuracy_score(y_test, y_pred_best), 2))\n",
    "df_results2 = pd.DataFrame({\n",
    "    'Best C Value': [grid.best_params_['C']],  \n",
    "    'CV Mean Score': [round(grid.best_score_, 2)],\n",
    "    'Test Accuracy': [round(accuracy_score(y_test, y_pred_best), 2)]\n",
    "})\n",
    "display(df_results2)\n",
    "print(f\"The best C value found is {grid.best_params_['C']}, with a CV mean score of {round(grid.best_score_, 2)}.\")\n",
    "print(f\"The generalization performance of the best model (refitted on the training data with the best 𝐶 value found in cross-validation) is {round(accuracy_score(y_test, y_pred_best), 2)}.\")\n"
   ]
  }
 ],
 "metadata": {
  "kernelspec": {
   "display_name": "base",
   "language": "python",
   "name": "python3"
  },
  "language_info": {
   "codemirror_mode": {
    "name": "ipython",
    "version": 3
   },
   "file_extension": ".py",
   "mimetype": "text/x-python",
   "name": "python",
   "nbconvert_exporter": "python",
   "pygments_lexer": "ipython3",
   "version": "3.13.5"
  }
 },
 "nbformat": 4,
 "nbformat_minor": 5
}
