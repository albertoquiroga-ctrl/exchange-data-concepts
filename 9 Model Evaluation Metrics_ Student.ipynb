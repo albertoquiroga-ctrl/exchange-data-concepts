{
 "cells": [
  {
   "cell_type": "code",
   "execution_count": 1,
   "id": "f4e29087",
   "metadata": {},
   "outputs": [],
   "source": [
    "import pandas as pd\n",
    "import numpy as np\n",
    "import matplotlib.pyplot as plt\n",
    "\n",
    "from sklearn.tree import DecisionTreeClassifier\n",
    "from sklearn.svm import LinearSVC\n",
    "from sklearn.model_selection import train_test_split\n",
    "from sklearn.preprocessing import MinMaxScaler\n",
    "\n",
    "import warnings\n",
    "warnings.simplefilter(action='ignore', category=FutureWarning)  # suppress future warnings (about pandas.replace)"
   ]
  },
  {
   "cell_type": "markdown",
   "id": "8e6d4778",
   "metadata": {},
   "source": [
    "# 1. Data Preparation\n",
    "\n"
   ]
  },
  {
   "cell_type": "code",
   "execution_count": 2,
   "id": "ac61920f",
   "metadata": {},
   "outputs": [
    {
     "data": {
      "text/plain": [
       "(20000, 8)"
      ]
     },
     "execution_count": 2,
     "metadata": {},
     "output_type": "execute_result"
    }
   ],
   "source": [
    "# load the data\n",
    "churn = pd.read_csv('churn.csv', sep = ' ')\n",
    "\n",
    "# convert COLLEGE as numeric\n",
    "churn['COLLEGE'] = churn['COLLEGE'].replace({'zero':0, 'one':1}) \n",
    "\n",
    "# drop 4 categorical variables for simplicity \n",
    "churn.drop(columns = ['OVER_15MINS_CALLS_PER_MONTH', \n",
    "                      'REPORTED_SATISFACTION', \n",
    "                      'REPORTED_USAGE_LEVEL', \n",
    "                      'CONSIDERING_CHANGE_OF_PLAN'], \n",
    "           inplace = True)\n",
    "\n",
    "churn.shape"
   ]
  },
  {
   "cell_type": "markdown",
   "id": "7a377633",
   "metadata": {},
   "source": [
    "**Split and Scale the Data**"
   ]
  },
  {
   "cell_type": "code",
   "execution_count": 3,
   "id": "888dbb1a-3ed3-4814-a2a1-d7e06f0adbd3",
   "metadata": {},
   "outputs": [
    {
     "data": {
      "text/plain": [
       "(16000, 7)"
      ]
     },
     "metadata": {},
     "output_type": "display_data"
    },
    {
     "data": {
      "text/plain": [
       "(4000, 7)"
      ]
     },
     "metadata": {},
     "output_type": "display_data"
    },
    {
     "data": {
      "text/plain": [
       "(16000,)"
      ]
     },
     "metadata": {},
     "output_type": "display_data"
    },
    {
     "data": {
      "text/plain": [
       "(4000,)"
      ]
     },
     "metadata": {},
     "output_type": "display_data"
    }
   ],
   "source": [
    "X = churn.drop(columns = 'LEAVE')       # features\n",
    "\n",
    "y = churn['LEAVE']                      # target\n",
    "\n",
    "X_train, X_test, y_train, y_test = train_test_split(X, y, test_size = 0.2, random_state = 42) \n",
    "\n",
    "display(X_train.shape, X_test.shape, y_train.shape, y_test.shape)"
   ]
  },
  {
   "cell_type": "code",
   "execution_count": 4,
   "id": "11ddf95c-88f5-47d9-ba73-1b09d312529d",
   "metadata": {},
   "outputs": [
    {
     "data": {
      "text/plain": [
       "(16000, 7)"
      ]
     },
     "metadata": {},
     "output_type": "display_data"
    },
    {
     "data": {
      "text/plain": [
       "(4000, 7)"
      ]
     },
     "metadata": {},
     "output_type": "display_data"
    },
    {
     "data": {
      "text/plain": [
       "(16000,)"
      ]
     },
     "metadata": {},
     "output_type": "display_data"
    },
    {
     "data": {
      "text/plain": [
       "(4000,)"
      ]
     },
     "metadata": {},
     "output_type": "display_data"
    }
   ],
   "source": [
    "scaler = MinMaxScaler()\n",
    "\n",
    "X_train_scaled = scaler.fit_transform(X_train)   \n",
    "\n",
    "X_test_scaled  = scaler.transform(X_test)\n",
    "\n",
    "display(X_train_scaled.shape, X_test_scaled.shape, y_train.shape, y_test.shape)"
   ]
  },
  {
   "cell_type": "markdown",
   "id": "ca77b2a7",
   "metadata": {},
   "source": [
    "# 2. Modeling"
   ]
  },
  {
   "cell_type": "markdown",
   "id": "19f1e2b8",
   "metadata": {},
   "source": [
    "## 2.1 Baseline Models  \n",
    "\n",
    "Check the [documentation](https://scikit-learn.org/stable/modules/generated/sklearn.dummy.DummyClassifier.html) of ``sklearn.dummy.DummyClassifier``. \n",
    "\n",
    "- `strategy`:  {“most_frequent”, “prior”, “stratified”, “uniform”, “constant”}, default=”prior”"
   ]
  },
  {
   "cell_type": "markdown",
   "id": "31cd0903",
   "metadata": {},
   "source": [
    "### 2.1(a) Majority Classifier   \n",
    "\n",
    "- `strategy` = 'most_frequent': all predicted as 'STAY' and the estimated 'STAY' probabilities are all 100%.\n",
    "- `strategy` = 'prior':  all predicted as 'STAY' and the estimated 'STAY' probabilities are all 50.58% (the prior).\n",
    "\n",
    "The predicted classes are the same, the difference is in the estimated class probabilities. "
   ]
  },
  {
   "cell_type": "code",
   "execution_count": 5,
   "id": "08be4d4e",
   "metadata": {},
   "outputs": [
    {
     "data": {
      "text/plain": [
       "LEAVE\n",
       "STAY     8093\n",
       "LEAVE    7907\n",
       "Name: count, dtype: int64"
      ]
     },
     "execution_count": 5,
     "metadata": {},
     "output_type": "execute_result"
    }
   ],
   "source": [
    "y_train.value_counts()    # what is the majority class: 'STAY' "
   ]
  },
  {
   "cell_type": "code",
   "execution_count": 6,
   "id": "ff09e95d",
   "metadata": {},
   "outputs": [
    {
     "name": "stdout",
     "output_type": "stream",
     "text": [
      "Accuracy of majority model: 51.38%\n",
      "No. of STAY Predictions: 4000\n",
      "Estimated class probabilities: \n",
      " [[0. 1.]\n",
      " [0. 1.]\n",
      " [0. 1.]\n",
      " ...\n",
      " [0. 1.]\n",
      " [0. 1.]\n",
      " [0. 1.]]\n"
     ]
    }
   ],
   "source": [
    "from sklearn.dummy import DummyClassifier\n",
    "\n",
    "majority = DummyClassifier(strategy = 'most_frequent').fit(X_train_scaled, y_train)\n",
    "\n",
    "pred1 = majority.predict(X_test_scaled)                    # predicted classes\n",
    "prob1 = majority.predict_proba(X_test_scaled)              # predicted class probabilities\n",
    "base_rate1 = majority.score(X_test_scaled, y_test)         # test score, same as accuracy_score(y_test, pred1)\n",
    "\n",
    "print(\"Accuracy of majority model: {:.2%}\".format(base_rate1)) \n",
    "print(\"No. of STAY Predictions:\", sum(pred1 == 'STAY'))    # all predicted as \"STAY\" (the majority class)\n",
    "print(\"Estimated class probabilities: \\n\", prob1)          # Stay probabilities are 1 for all"
   ]
  },
  {
   "cell_type": "markdown",
   "id": "de20ea49",
   "metadata": {},
   "source": [
    "### 2.1(b) Random Classifier\n",
    "\n",
    "- `strategy` = 'uniform'"
   ]
  },
  {
   "cell_type": "code",
   "execution_count": 7,
   "id": "abbbfa28",
   "metadata": {},
   "outputs": [
    {
     "name": "stdout",
     "output_type": "stream",
     "text": [
      "Accuracy of random model: 49.53%\n",
      "No. of LEAVE Predictions: 1960\n",
      "Estimated class probabilities: \n",
      " [[0.5 0.5]\n",
      " [0.5 0.5]\n",
      " [0.5 0.5]\n",
      " ...\n",
      " [0.5 0.5]\n",
      " [0.5 0.5]\n",
      " [0.5 0.5]]\n"
     ]
    }
   ],
   "source": [
    "random = DummyClassifier(strategy = 'uniform', random_state = 0).fit(X_train_scaled, y_train)\n",
    "\n",
    "pred2 = random.predict(X_test_scaled)\n",
    "prob2 = random.predict_proba(X_test_scaled)\n",
    "base_rate2 = random.score(X_test_scaled, y_test)                  \n",
    "\n",
    "print(\"Accuracy of random model: {:.2%}\".format(base_rate2))   \n",
    "print(\"No. of LEAVE Predictions:\", sum(pred2 == 'LEAVE'))   # almost 50% predicted as LEAVE \n",
    "print(\"Estimated class probabilities: \\n\", prob2)           # same estimated class probability for both classes  "
   ]
  },
  {
   "cell_type": "markdown",
   "id": "9e40eb4b",
   "metadata": {},
   "source": [
    "## 2.2 Two Good Models\n",
    "\n",
    "\n",
    "Let's train two models and use the default threshold (0.5) for class prediction and evaluation."
   ]
  },
  {
   "cell_type": "markdown",
   "id": "b8c94b0d",
   "metadata": {},
   "source": [
    "### 2.2(a) Linear SVC\n",
    "\n",
    "Here we use the ``LinearSVC`` function (check the [documentation](https://scikit-learn.org/stable/modules/generated/sklearn.svm.LinearSVC.html) for details) as the ``SVC`` function takes a longer training time with a large dataset.   "
   ]
  },
  {
   "cell_type": "code",
   "execution_count": 8,
   "id": "ea24fa6e",
   "metadata": {},
   "outputs": [
    {
     "data": {
      "text/plain": [
       "0.6425"
      ]
     },
     "execution_count": 8,
     "metadata": {},
     "output_type": "execute_result"
    }
   ],
   "source": [
    "svm = LinearSVC()                # default C=1.0\n",
    "\n",
    "svm.fit(X_train_scaled,y_train)    \n",
    "\n",
    "svm.score(X_test_scaled,y_test)  # check plain accuracy"
   ]
  },
  {
   "cell_type": "markdown",
   "id": "a7fd7d3a",
   "metadata": {},
   "source": [
    "### 2.2(b) Decision Tree"
   ]
  },
  {
   "cell_type": "code",
   "execution_count": 9,
   "id": "d44e0c42",
   "metadata": {},
   "outputs": [
    {
     "data": {
      "text/plain": [
       "0.7085"
      ]
     },
     "execution_count": 9,
     "metadata": {},
     "output_type": "execute_result"
    }
   ],
   "source": [
    "# arbitary hyparameter setting for tree as well\n",
    "\n",
    "tree = DecisionTreeClassifier(criterion = 'entropy', max_depth = 5,  min_samples_leaf = 500, random_state = 1)    \n",
    "\n",
    "tree.fit(X_train_scaled, y_train)\n",
    "\n",
    "tree.score(X_test_scaled,y_test)   # check plain accuracy"
   ]
  },
  {
   "cell_type": "markdown",
   "id": "b28da9cb",
   "metadata": {},
   "source": [
    "# 3. Model Evaluation\n",
    "\n",
    "\n",
    "## 3.1 Confusion Matrix \n",
    "\n",
    "Use ``sklearn.metrics.confusion_matrix`` function to compute the confusion matrix. Check [documentation](https://scikit-learn.org/stable/modules/generated/sklearn.metrics.confusion_matrix.html) for details.\n",
    "\n",
    "- ``normalize``: {‘true’, ‘pred’, ‘all’}, `default = None`."
   ]
  },
  {
   "cell_type": "markdown",
   "id": "247eab20",
   "metadata": {},
   "source": [
    "### 3.1(a) Linear SVC\n",
    "\n",
    "**Confusion Matrix**"
   ]
  },
  {
   "cell_type": "code",
   "execution_count": 10,
   "id": "a92d7934",
   "metadata": {},
   "outputs": [
    {
     "data": {
      "text/plain": [
       "array([[1220,  725],\n",
       "       [ 705, 1350]])"
      ]
     },
     "execution_count": 10,
     "metadata": {},
     "output_type": "execute_result"
    }
   ],
   "source": [
    "from sklearn.metrics import confusion_matrix\n",
    "\n",
    "svm_pred = svm.predict(X_test_scaled)                   # obtained predicted classes first\n",
    "\n",
    "cm = confusion_matrix(y_true = y_test, y_pred = svm_pred)   \n",
    "\n",
    "cm    # rows are actual labels, cols are predicted labels "
   ]
  },
  {
   "cell_type": "markdown",
   "id": "7552c5f8-286c-40f1-b238-b6d238b87e8a",
   "metadata": {},
   "source": [
    "**Visualize the confusion matrix as a heatmap**\n",
    "\n",
    "- With a confusion matrix, use `sklearn.metrics.ConfusionMatrixDisplay` class (check [documentation](https://scikit-learn.org/stable/modules/generated/sklearn.metrics.ConfusionMatrixDisplay.html)) for visualization."
   ]
  },
  {
   "cell_type": "code",
   "execution_count": 11,
   "id": "87db00a1-2c9c-44e2-9b0a-51cefc3a201c",
   "metadata": {},
   "outputs": [
    {
     "data": {
      "image/png": "[encoded data removed]",
      "text/plain": [
       "<Figure size 640x480 with 2 Axes>"
      ]
     },
     "metadata": {},
     "output_type": "display_data"
    }
   ],
   "source": [
    "from sklearn.metrics import ConfusionMatrixDisplay\n",
    "\n",
    "disp = ConfusionMatrixDisplay(confusion_matrix = cm, display_labels = svm.classes_)\n",
    "\n",
    "disp.plot()   # additional parameters can be added here\n",
    "\n",
    "plt.show() "
   ]
  },
  {
   "cell_type": "markdown",
   "id": "27cd30ad-8bf6-418b-b273-6fbed25b40f7",
   "metadata": {},
   "source": [
    "**The following approaches are recommended as as more convient alternatives.**\n",
    "\n",
    "\n",
    "- Use `ConfusionMatrixDisplay.from_estimator` method to plot a confusion matrix given an estimator and data. Check [documentation](https://scikit-learn.org/stable/modules/generated/sklearn.metrics.ConfusionMatrixDisplay.html#sklearn.metrics.ConfusionMatrixDisplay.from_estimator) for details.\n",
    "\n",
    "\n",
    "```python\n",
    "ConfusionMatrixDisplay.from_estimator(estimator = svm,  X = X_test_scaled, y = y_test)\n",
    "plt.show()\n",
    "```\n",
    "\n",
    "\n",
    "\n",
    "\n",
    "- Use `ConfusionMatrixDisplay.from_predictions` method to plot a confusion matrix given the true and predicted labels. Check [documentation](https://scikit-learn.org/stable/modules/generated/sklearn.metrics.ConfusionMatrixDisplay.html#sklearn.metrics.ConfusionMatrixDisplay.from_predictions) for details.\n",
    "\n",
    "```python\n",
    "ConfusionMatrixDisplay.from_predictions(y_true = y_test, y_pred = svm_pred)\n",
    "plt.show()\n",
    "```"
   ]
  },
  {
   "cell_type": "markdown",
   "id": "1ae9d791",
   "metadata": {},
   "source": [
    "### 3.1(b) Decision Tree"
   ]
  },
  {
   "cell_type": "markdown",
   "id": "7419011d",
   "metadata": {},
   "source": [
    "<font color=red>***Exercise 1: Your Codes Here***</font>  \n",
    "\n",
    "Please visualize the tree model's performance on test data using confusion matrix.  "
   ]
  },
  {
   "cell_type": "code",
   "execution_count": 14,
   "id": "71fd1e25",
   "metadata": {
    "vscode": {
     "languageId": "markdown"
    }
   },
   "outputs": [
    {
     "name": "stdout",
     "output_type": "stream",
     "text": [
      "Confusion matrix:\n",
      " [[1374  571]\n",
      " [ 595 1460]]\n"
     ]
    },
    {
     "data": {
      "image/png": "[encoded data removed]",
      "text/plain": [
       "<Figure size 640x480 with 2 Axes>"
      ]
     },
     "metadata": {},
     "output_type": "display_data"
    }
   ],
   "source": [
    "# Decision Tree performance on test set (confusion matrix)\n",
    "tree_pred = tree.predict(X_test_scaled)\n",
    "\n",
    "cm_tree = confusion_matrix(y_test, tree_pred)\n",
    "print(\"Confusion matrix:\\n\", cm_tree)\n",
    "\n",
    "# visualize\n",
    "ConfusionMatrixDisplay.from_predictions(y_true=y_test, y_pred=tree_pred, display_labels=tree.classes_)\n",
    "plt.title('Confusion Matrix - Decision Tree')\n",
    "plt.show()"
   ]
  },
  {
   "cell_type": "markdown",
   "id": "0b34fff7",
   "metadata": {},
   "source": [
    "## 3.2 Evaluation Metrics\n",
    "\n",
    "In a binary classification task: \n",
    "- **Accuracy** = TP + TN / (TP + TN + FP + FN). Check [documentation](https://scikit-learn.org/stable/modules/generated/sklearn.metrics.accuracy_score.html) for the ``accuracy_score`` function.\n",
    "- **Sensitivity (Recall)** = TP / (TP + FN), also called **TP rate**. Check [documentation](https://scikit-learn.org/stable/modules/generated/sklearn.metrics.recall_score.html#sklearn.metrics.recall_score) for the ``recall_score`` function.\n",
    "- **Precision** = TP / (TP + FP). Check [documentation](https://scikit-learn.org/stable/modules/generated/sklearn.metrics.precision_score.html) for the ``precision_score`` function.\n",
    "- **F1 Score** = 2 * Precision * Recall / (Precision + Recall). Check [documentation](https://scikit-learn.org/stable/modules/generated/sklearn.metrics.f1_score.html#sklearn.metrics.f1_score) for the ``f1_score`` function.\n",
    "\n"
   ]
  },
  {
   "cell_type": "markdown",
   "id": "139daa38",
   "metadata": {},
   "source": [
    "For ``recall_score``, ``precision_score`` and ``f1_score`` functions, pay attention to the following parameters: \n",
    "\n",
    "- ``pos_label``: the class to report (str or int, ``default``= 1). If classes are not {-1, 1} or {0, 1}, then ``pos_label`` should be explicitly given (e.g., 'LEAVE').\n",
    "\n",
    "  For multi-class data, this parameter will be ignored.\n",
    "\n",
    "      \n",
    "\n",
    "- ``average``:  `default` = 'binary', which reports results for the class set by `pos_label` (only applicable for binary target).\n",
    "\n",
    "  For multi-class data, the parameter takes the following options:\n",
    "\n",
    "  -  `'macro'`: calculate metrics for each class and take the average (equal weight for each class). In binary-class tasks, ``macro_recall`` = (TP/(TP+FN) + TN/(TN+FP))/2; ``macro_precision`` = (TP/(TP+FP) + TN/(TN+FN))/2.\n",
    "\n",
    "  - `'micro'`: calculate metrics globally (each weight for each instance). Same as accuracy for single-label classification, but different in multi-label tasks. \n",
    "\n",
    "  - `'weighted'`: calculate metrics for each class, and find their average weighted by `support` (the number of true instances for each class).\n",
    "\n",
    "  - `None`: the scores for each class are returned.\n",
    "    \n",
    "There is no function for **specificity** (i.e., TN rate), why?  "
   ]
  },
  {
   "cell_type": "markdown",
   "id": "2f897245",
   "metadata": {},
   "source": [
    "### 3.2(a) Linear SVC"
   ]
  },
  {
   "cell_type": "code",
   "execution_count": null,
   "id": "5c20b79d",
   "metadata": {},
   "outputs": [],
   "source": [
    "from sklearn.metrics import accuracy_score, precision_score, recall_score, f1_score\n",
    "\n",
    "accuracy = accuracy_score(y_test, svm_pred)                        # same as svm.score(X_test_scaled, y_test) \n",
    "recall = recall_score(y_test, svm_pred, pos_label = 'LEAVE')       # specify positive label\n",
    "precision = precision_score(y_test, svm_pred, pos_label = 'LEAVE')\n",
    "f1 = f1_score(y_test, svm_pred, pos_label = 'LEAVE') \n",
    "\n",
    "print('Accuracy(SVM): {:.2%}'.format(accuracy))                   \n",
    "print('Recall(SVM): {:.2%}'.format(recall))   \n",
    "print('Precision(SVM): {:.2%}'.format(precision))    \n",
    "print('F1(SVM): {:.2%}'.format(f1))"
   ]
  },
  {
   "cell_type": "markdown",
   "id": "de6c5dad-32b2-47aa-87d1-76a0bcccd67d",
   "metadata": {},
   "source": [
    "Alternatively, use `classification_report` function (check [documentation](https://scikit-learn.org/stable/modules/generated/sklearn.metrics.classification_report.html) for details) to report all metrics for all classes. \n",
    "\n",
    "- The `support` column shows the number of instances (from each actual class).\n",
    "- The `macro avg` take average of the metrics for all classes. \n",
    "- The `weighted avg` is the sum of `support`-weighted metrics for all classes.\n",
    "- The `micro avg` is only shown for multi-label or multi-class with a subset of classes, as it is equal as accuracy otherwise (same for all metrics). "
   ]
  },
  {
   "cell_type": "code",
   "execution_count": null,
   "id": "1ad17efd-2492-41ad-b284-e51013fe4389",
   "metadata": {},
   "outputs": [],
   "source": [
    "from sklearn.metrics import classification_report\n",
    "\n",
    "report = classification_report(y_true = y_test, y_pred = svm_pred, digits = 4)  # return text  \n",
    "\n",
    "print(report)   # print text for a readable format"
   ]
  },
  {
   "cell_type": "markdown",
   "id": "482fee9d",
   "metadata": {},
   "source": [
    "### 3.2(b) Decision Tree\n",
    "\n",
    "Please compute the accuracy, recall, precision and f1 score for the Tree model.  \n",
    "\n",
    "<font color=red>***Exercise 2: Your Codes Here***</font>  "
   ]
  },
  {
   "cell_type": "code",
   "execution_count": null,
   "id": "3d308ac5-6605-4e93-8c63-98a0e95ad889",
   "metadata": {},
   "outputs": [],
   "source": []
  },
  {
   "cell_type": "markdown",
   "id": "2987b55f-f057-4fbc-be25-c2bdd5d694e0",
   "metadata": {},
   "source": [
    "# 4. Hyperparameter Tuning \n",
    "\n",
    "With different business goals, we may use different evaluation metrics in hyperparameter tuning. Pay attention to the following parameter in `GridSearchCV` :  \n",
    "\n",
    "- `scoring`: the evaluation metric(s) used to compare parameters/models in cross-validatation. `Default` = None, which use `'accuracy'` for classification models. It takes a single string (or a callable,list, tuple or dict), which can be  `'accuracy'`,  `'precision'`, `'recall'`, `'f1'`, etcs. Check [this link](https://scikit-learn.org/stable/modules/model_evaluation.html#scoring-parameter) for available values.\n",
    "\n",
    "Check [documentation](https://scikit-learn.org/stable/modules/generated/sklearn.model_selection.GridSearchCV.html) for details"
   ]
  },
  {
   "cell_type": "markdown",
   "id": "e5d1abc3-59bb-4480-bbcd-57dd01808757",
   "metadata": {},
   "source": [
    "**GridSearchCV for Tree with Different Metrics**   \n",
    "\n",
    "- If non-accuracy metrics are used, it is important to convert target as numbers so the positive is numerically bigger. "
   ]
  },
  {
   "cell_type": "code",
   "execution_count": null,
   "id": "2001add0-3d39-402f-8ddc-13eb8765fb13",
   "metadata": {},
   "outputs": [],
   "source": [
    "# Step 1:  STAY as 0, LEAVE as 1\n",
    "\n",
    "y_train = y_train.replace({'LEAVE':1, 'STAY':0})\n",
    "\n",
    "y_test = y_test.replace({'LEAVE':1, 'STAY':0})   "
   ]
  },
  {
   "cell_type": "code",
   "execution_count": null,
   "id": "9409bae6-c763-4ad9-9b48-fbfcc7e11c40",
   "metadata": {},
   "outputs": [],
   "source": [
    "# Step 2: GridSearchCV, use `recall` in parameter evaluation \n",
    "\n",
    "from sklearn.model_selection import GridSearchCV\n",
    "\n",
    "model = DecisionTreeClassifier(criterion = 'entropy', random_state = 1)   # define the model\n",
    "\n",
    "param_range = {'max_depth': [2, 3, 4, 5, 6],  'min_samples_leaf':[100, 200, 300, 400, 500]}   \n",
    "\n",
    "grid1 = GridSearchCV(estimator = model, \n",
    "                     param_grid = param_range, \n",
    "                     cv = 5, \n",
    "                     scoring = 'recall')    # recall: target as many responders (leaving customers) as possible                    \n",
    "\n",
    "grid1.fit(X_train_scaled, y_train)        \n",
    "\n",
    "print(\"Best params: \", grid1.best_params_)    \n",
    "print(\"Mean cv score (recall) for the best params: {:.2%}\".format(grid1.best_score_))      "
   ]
  },
  {
   "cell_type": "markdown",
   "id": "645a45cd-0bf9-42d2-97c2-0f3cf07b31dd",
   "metadata": {},
   "source": [
    "In the search process, a best model (with best params found in the cross-validation) was refitted on the entire dataset automatically. \n",
    "\n",
    "- Let's visualize the best model here."
   ]
  },
  {
   "cell_type": "code",
   "execution_count": null,
   "id": "a470fb22-1b43-46aa-9147-1e42399c14b3",
   "metadata": {},
   "outputs": [],
   "source": [
    "from sklearn.tree import plot_tree\n",
    "\n",
    "fig = plt.figure(figsize=(28,18))    \n",
    "\n",
    "best1 = grid1.best_estimator_                    # get the best model refitted on the entire training set\n",
    "\n",
    "plot_tree(decision_tree = best1, \n",
    "          feature_names = X_train.columns,       # or X_train.columns.to_list() if with an old version of scikit-learn\n",
    "          class_names = ['Stay','Leave'],        # predict class labels corresponding to the labels (0,1)  \n",
    "          filled = True,                         # if True, paint nodes to indicate majority class  \n",
    "          fontsize = 8)    \n",
    "\n",
    "fig.suptitle('Best Tree Model')\n",
    "plt.show()"
   ]
  },
  {
   "cell_type": "markdown",
   "id": "4858018a-89af-4345-be58-a10cf8ee2deb",
   "metadata": {},
   "source": [
    "<font color=red>***Exercise 3: Your Codes Here***</font>  \n",
    "\n",
    "Could you please find the best tree size according to **precision**?  \n",
    "- Please also set `criterion` = 'entropy' and `random_state` = 1 when defining the tree model.\n",
    "- Name the gridsearch object as `grid2`, search over the same parameter range as above.\n",
    "- Evaluate the generalization performance of best model (`best2`) on test set.  Try both `grid2.score` and `best2.score` respectively. "
   ]
  },
  {
   "cell_type": "code",
   "execution_count": null,
   "id": "26a89f10-d97c-46c9-82f4-3c80a0bb6f59",
   "metadata": {},
   "outputs": [],
   "source": []
  },
  {
   "cell_type": "code",
   "execution_count": null,
   "id": "1df0aeaf-82bf-4ac4-920b-6490d58c07bd",
   "metadata": {},
   "outputs": [],
   "source": []
  }
 ],
 "metadata": {
  "kernelspec": {
   "display_name": "base",
   "language": "python",
   "name": "python3"
  },
  "language_info": {
   "codemirror_mode": {
    "name": "ipython",
    "version": 3
   },
   "file_extension": ".py",
   "mimetype": "text/x-python",
   "name": "python",
   "nbconvert_exporter": "python",
   "pygments_lexer": "ipython3",
   "version": "3.13.5"
  }
 },
 "nbformat": 4,
 "nbformat_minor": 5
}
