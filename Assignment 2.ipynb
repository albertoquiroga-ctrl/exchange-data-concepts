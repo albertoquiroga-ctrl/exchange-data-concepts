{
 "cells": [
  {
   "cell_type": "markdown",
   "id": "5324e2a5",
   "metadata": {},
   "source": [
    "# Assignment 2 Notebook Overview\n",
    "\n",
    "Short guide for working through the assignment deliverables.\n",
    "\n",
    "**Contents**\n",
    "- Section 1: environment setup and first dataset inspection.\n",
    "- Section 2: Question 1 logistic-regression walkthrough with visualization.\n",
    "- Section 3: Question 2 odds-ratio arithmetic.\n",
    "- Section 4: Question 3 SVM interpretation notes.\n",
    "- Section 5: Question 4 end-to-end logistic regression using `smoking.csv`.\n",
    "\n",
    "> All numeric answers remain rounded to two decimals unless otherwise noted.\n"
   ]
  },
  {
   "cell_type": "markdown",
   "id": "268044af",
   "metadata": {},
   "source": [
    "## Assignment 2 Instructions\n",
    "Assignment 2 mimics the original prompt so the notebook stands alone. Keep the following global notes visible while you work:\n",
    "- **Note 1:** When answering with Python, show the source cells and the printed or plotted results. Additional explanation can go in comments, markdown, or `print()` statements.\n",
    "- **Note 2:** When answering manually, write the algebraic steps so graders can follow your reasoning.\n",
    "- **Note 3:** Round every numeric answer to two decimal places unless a question explicitly requests different precision.\n"
   ]
  },
  {
   "cell_type": "markdown",
   "id": "a1002cbc",
   "metadata": {},
   "source": [
    "## 1. Environment Setup and First Look\n",
    "\n",
    "Load helper libraries, style the plotting backend, and pull the shared `smoking.csv` dataset for reuse across later sections."
   ]
  },
  {
   "cell_type": "code",
   "execution_count": 1,
   "id": "9822e58c",
   "metadata": {
    "execution": {
     "iopub.execute_input": "2025-10-09T11:04:39.071593Z",
     "iopub.status.busy": "2025-10-09T11:04:39.071193Z",
     "iopub.status.idle": "2025-10-09T11:04:43.076592Z",
     "shell.execute_reply": "2025-10-09T11:04:43.075553Z"
    }
   },
   "outputs": [
    {
     "name": "stdout",
     "output_type": "stream",
     "text": [
      "Dataset overview\n",
      "Rows:    10000\n",
      "Columns: 10\n",
      "Column names in order (helps when writing formulas later):\n",
      "   1. smoker\n",
      "   2. smkban\n",
      "   3. age\n",
      "   4. hsdrop\n",
      "   5. hsgrad\n",
      "   6. colsome\n",
      "   7. colgrad\n",
      "   8. black\n",
      "   9. hispanic\n",
      "  10. female\n"
     ]
    },
    {
     "data": {
      "text/html": [
       "<div>\n",
       "<style scoped>\n",
       "    .dataframe tbody tr th:only-of-type {\n",
       "        vertical-align: middle;\n",
       "    }\n",
       "\n",
       "    .dataframe tbody tr th {\n",
       "        vertical-align: top;\n",
       "    }\n",
       "\n",
       "    .dataframe thead th {\n",
       "        text-align: right;\n",
       "    }\n",
       "</style>\n",
       "<table border=\"1\" class=\"dataframe\">\n",
       "  <thead>\n",
       "    <tr style=\"text-align: right;\">\n",
       "      <th></th>\n",
       "      <th>smoker</th>\n",
       "      <th>smkban</th>\n",
       "      <th>age</th>\n",
       "      <th>hsdrop</th>\n",
       "      <th>hsgrad</th>\n",
       "      <th>colsome</th>\n",
       "      <th>colgrad</th>\n",
       "      <th>black</th>\n",
       "      <th>hispanic</th>\n",
       "      <th>female</th>\n",
       "    </tr>\n",
       "  </thead>\n",
       "  <tbody>\n",
       "    <tr>\n",
       "      <th>0</th>\n",
       "      <td>1</td>\n",
       "      <td>0</td>\n",
       "      <td>49</td>\n",
       "      <td>0</td>\n",
       "      <td>1</td>\n",
       "      <td>0</td>\n",
       "      <td>0</td>\n",
       "      <td>0</td>\n",
       "      <td>0</td>\n",
       "      <td>0</td>\n",
       "    </tr>\n",
       "    <tr>\n",
       "      <th>1</th>\n",
       "      <td>1</td>\n",
       "      <td>0</td>\n",
       "      <td>52</td>\n",
       "      <td>0</td>\n",
       "      <td>0</td>\n",
       "      <td>1</td>\n",
       "      <td>0</td>\n",
       "      <td>0</td>\n",
       "      <td>0</td>\n",
       "      <td>0</td>\n",
       "    </tr>\n",
       "    <tr>\n",
       "      <th>2</th>\n",
       "      <td>0</td>\n",
       "      <td>0</td>\n",
       "      <td>15</td>\n",
       "      <td>0</td>\n",
       "      <td>0</td>\n",
       "      <td>1</td>\n",
       "      <td>0</td>\n",
       "      <td>0</td>\n",
       "      <td>0</td>\n",
       "      <td>1</td>\n",
       "    </tr>\n",
       "    <tr>\n",
       "      <th>3</th>\n",
       "      <td>1</td>\n",
       "      <td>0</td>\n",
       "      <td>37</td>\n",
       "      <td>0</td>\n",
       "      <td>1</td>\n",
       "      <td>0</td>\n",
       "      <td>0</td>\n",
       "      <td>0</td>\n",
       "      <td>0</td>\n",
       "      <td>0</td>\n",
       "    </tr>\n",
       "    <tr>\n",
       "      <th>4</th>\n",
       "      <td>0</td>\n",
       "      <td>1</td>\n",
       "      <td>24</td>\n",
       "      <td>0</td>\n",
       "      <td>0</td>\n",
       "      <td>1</td>\n",
       "      <td>0</td>\n",
       "      <td>0</td>\n",
       "      <td>0</td>\n",
       "      <td>1</td>\n",
       "    </tr>\n",
       "  </tbody>\n",
       "</table>\n",
       "</div>"
      ],
      "text/plain": [
       "   smoker  smkban  age  hsdrop  hsgrad  colsome  colgrad  black  hispanic  \\\n",
       "0       1       0   49       0       1        0        0      0         0   \n",
       "1       1       0   52       0       0        1        0      0         0   \n",
       "2       0       0   15       0       0        1        0      0         0   \n",
       "3       1       0   37       0       1        0        0      0         0   \n",
       "4       0       1   24       0       0        1        0      0         0   \n",
       "\n",
       "   female  \n",
       "0       0  \n",
       "1       0  \n",
       "2       1  \n",
       "3       0  \n",
       "4       1  "
      ]
     },
     "metadata": {},
     "output_type": "display_data"
    },
    {
     "name": "stdout",
     "output_type": "stream",
     "text": [
      "<class 'pandas.core.frame.DataFrame'>\n",
      "RangeIndex: 10000 entries, 0 to 9999\n",
      "Data columns (total 10 columns):\n",
      " #   Column    Non-Null Count  Dtype\n",
      "---  ------    --------------  -----\n",
      " 0   smoker    10000 non-null  int64\n",
      " 1   smkban    10000 non-null  int64\n",
      " 2   age       10000 non-null  int64\n",
      " 3   hsdrop    10000 non-null  int64\n",
      " 4   hsgrad    10000 non-null  int64\n",
      " 5   colsome   10000 non-null  int64\n",
      " 6   colgrad   10000 non-null  int64\n",
      " 7   black     10000 non-null  int64\n",
      " 8   hispanic  10000 non-null  int64\n",
      " 9   female    10000 non-null  int64\n",
      "dtypes: int64(10)\n",
      "memory usage: 781.4 KB\n"
     ]
    },
    {
     "data": {
      "text/plain": [
       "None"
      ]
     },
     "metadata": {},
     "output_type": "display_data"
    },
    {
     "data": {
      "text/html": [
       "<div>\n",
       "<style scoped>\n",
       "    .dataframe tbody tr th:only-of-type {\n",
       "        vertical-align: middle;\n",
       "    }\n",
       "\n",
       "    .dataframe tbody tr th {\n",
       "        vertical-align: top;\n",
       "    }\n",
       "\n",
       "    .dataframe thead th {\n",
       "        text-align: right;\n",
       "    }\n",
       "</style>\n",
       "<table border=\"1\" class=\"dataframe\">\n",
       "  <thead>\n",
       "    <tr style=\"text-align: right;\">\n",
       "      <th></th>\n",
       "      <th>count</th>\n",
       "      <th>mean</th>\n",
       "      <th>std</th>\n",
       "      <th>min</th>\n",
       "      <th>25%</th>\n",
       "      <th>50%</th>\n",
       "      <th>75%</th>\n",
       "      <th>max</th>\n",
       "    </tr>\n",
       "  </thead>\n",
       "  <tbody>\n",
       "    <tr>\n",
       "      <th>smoker</th>\n",
       "      <td>10000.0</td>\n",
       "      <td>0.2423</td>\n",
       "      <td>0.428496</td>\n",
       "      <td>0.0</td>\n",
       "      <td>0.0</td>\n",
       "      <td>0.0</td>\n",
       "      <td>0.0</td>\n",
       "      <td>1.0</td>\n",
       "    </tr>\n",
       "    <tr>\n",
       "      <th>smkban</th>\n",
       "      <td>10000.0</td>\n",
       "      <td>0.5466</td>\n",
       "      <td>0.497849</td>\n",
       "      <td>0.0</td>\n",
       "      <td>0.0</td>\n",
       "      <td>1.0</td>\n",
       "      <td>1.0</td>\n",
       "      <td>1.0</td>\n",
       "    </tr>\n",
       "    <tr>\n",
       "      <th>age</th>\n",
       "      <td>10000.0</td>\n",
       "      <td>37.6008</td>\n",
       "      <td>12.997166</td>\n",
       "      <td>14.0</td>\n",
       "      <td>28.0</td>\n",
       "      <td>37.0</td>\n",
       "      <td>46.0</td>\n",
       "      <td>86.0</td>\n",
       "    </tr>\n",
       "    <tr>\n",
       "      <th>hsdrop</th>\n",
       "      <td>10000.0</td>\n",
       "      <td>0.0912</td>\n",
       "      <td>0.287908</td>\n",
       "      <td>0.0</td>\n",
       "      <td>0.0</td>\n",
       "      <td>0.0</td>\n",
       "      <td>0.0</td>\n",
       "      <td>1.0</td>\n",
       "    </tr>\n",
       "    <tr>\n",
       "      <th>hsgrad</th>\n",
       "      <td>10000.0</td>\n",
       "      <td>0.3266</td>\n",
       "      <td>0.468993</td>\n",
       "      <td>0.0</td>\n",
       "      <td>0.0</td>\n",
       "      <td>0.0</td>\n",
       "      <td>1.0</td>\n",
       "      <td>1.0</td>\n",
       "    </tr>\n",
       "    <tr>\n",
       "      <th>colsome</th>\n",
       "      <td>10000.0</td>\n",
       "      <td>0.2802</td>\n",
       "      <td>0.449119</td>\n",
       "      <td>0.0</td>\n",
       "      <td>0.0</td>\n",
       "      <td>0.0</td>\n",
       "      <td>1.0</td>\n",
       "      <td>1.0</td>\n",
       "    </tr>\n",
       "    <tr>\n",
       "      <th>colgrad</th>\n",
       "      <td>10000.0</td>\n",
       "      <td>0.1972</td>\n",
       "      <td>0.397905</td>\n",
       "      <td>0.0</td>\n",
       "      <td>0.0</td>\n",
       "      <td>0.0</td>\n",
       "      <td>0.0</td>\n",
       "      <td>1.0</td>\n",
       "    </tr>\n",
       "    <tr>\n",
       "      <th>black</th>\n",
       "      <td>10000.0</td>\n",
       "      <td>0.0769</td>\n",
       "      <td>0.266446</td>\n",
       "      <td>0.0</td>\n",
       "      <td>0.0</td>\n",
       "      <td>0.0</td>\n",
       "      <td>0.0</td>\n",
       "      <td>1.0</td>\n",
       "    </tr>\n",
       "    <tr>\n",
       "      <th>hispanic</th>\n",
       "      <td>10000.0</td>\n",
       "      <td>0.1134</td>\n",
       "      <td>0.317097</td>\n",
       "      <td>0.0</td>\n",
       "      <td>0.0</td>\n",
       "      <td>0.0</td>\n",
       "      <td>0.0</td>\n",
       "      <td>1.0</td>\n",
       "    </tr>\n",
       "    <tr>\n",
       "      <th>female</th>\n",
       "      <td>10000.0</td>\n",
       "      <td>0.5268</td>\n",
       "      <td>0.499306</td>\n",
       "      <td>0.0</td>\n",
       "      <td>0.0</td>\n",
       "      <td>1.0</td>\n",
       "      <td>1.0</td>\n",
       "      <td>1.0</td>\n",
       "    </tr>\n",
       "  </tbody>\n",
       "</table>\n",
       "</div>"
      ],
      "text/plain": [
       "            count     mean        std   min   25%   50%   75%   max\n",
       "smoker    10000.0   0.2423   0.428496   0.0   0.0   0.0   0.0   1.0\n",
       "smkban    10000.0   0.5466   0.497849   0.0   0.0   1.0   1.0   1.0\n",
       "age       10000.0  37.6008  12.997166  14.0  28.0  37.0  46.0  86.0\n",
       "hsdrop    10000.0   0.0912   0.287908   0.0   0.0   0.0   0.0   1.0\n",
       "hsgrad    10000.0   0.3266   0.468993   0.0   0.0   0.0   1.0   1.0\n",
       "colsome   10000.0   0.2802   0.449119   0.0   0.0   0.0   1.0   1.0\n",
       "colgrad   10000.0   0.1972   0.397905   0.0   0.0   0.0   0.0   1.0\n",
       "black     10000.0   0.0769   0.266446   0.0   0.0   0.0   0.0   1.0\n",
       "hispanic  10000.0   0.1134   0.317097   0.0   0.0   0.0   0.0   1.0\n",
       "female    10000.0   0.5268   0.499306   0.0   0.0   1.0   1.0   1.0"
      ]
     },
     "metadata": {},
     "output_type": "display_data"
    }
   ],
   "source": [
    "# ----------------------------------------------\n",
    "# Assignment 2 | Setup + first data inspection\n",
    "# ----------------------------------------------\n",
    "\n",
    "from pathlib import Path  # safer path handling that works on any OS\n",
    "\n",
    "# Core data wrangling / math helpers\n",
    "import numpy as np\n",
    "import pandas as pd\n",
    "\n",
    "# Visualization libraries (used for quick EDA and model diagnostics)\n",
    "import matplotlib.pyplot as plt\n",
    "import seaborn as sns\n",
    "\n",
    "# scikit-learn utilities you will need throughout the assignment\n",
    "from sklearn.model_selection import train_test_split\n",
    "from sklearn.preprocessing import MinMaxScaler\n",
    "from sklearn.linear_model import LogisticRegression\n",
    "from sklearn.metrics import accuracy_score, confusion_matrix, classification_report\n",
    "\n",
    "# Keep matplotlib plots inside the notebook and apply a readable default style\n",
    "%matplotlib inline\n",
    "sns.set_theme(style=\"whitegrid\")\n",
    "\n",
    "# ------------------------------------------------------------------\n",
    "# Load the assignment dataset (ships with the notebook repository)\n",
    "# ------------------------------------------------------------------\n",
    "DATA_PATH = Path(\"smoking.csv\")          # update if you store the CSV elsewhere\n",
    "smoking_df = pd.read_csv(DATA_PATH)      # load the CSV into a pandas DataFrame\n",
    "\n",
    "# ------------------------------------------------------------------\n",
    "# Lightweight structural checks (verbose on purpose for clarity)\n",
    "# ------------------------------------------------------------------\n",
    "print(\"Dataset overview\")\n",
    "print(f\"Rows:    {smoking_df.shape[0]}\")\n",
    "print(f\"Columns: {smoking_df.shape[1]}\")\n",
    "print(\"Column names in order (helps when writing formulas later):\")\n",
    "for idx, col in enumerate(smoking_df.columns, start=1):\n",
    "    print(f\"  {idx:>2}. {col}\")\n",
    "\n",
    "display(smoking_df.head())  # Quick structure overview\n",
    "display(smoking_df.info())  # Field types and null counts\n",
    "display(smoking_df.describe(include='all').T)  # Summary stats for numeric + categorical"
   ]
  },
  {
   "cell_type": "markdown",
   "id": "98afdf30",
   "metadata": {},
   "source": [
    "## 2. Question 1 - Logistic Regression Walkthrough\n",
    "\n",
    "Implements the analytical steps for the toy two-feature model (log-odds, predicted probability, decision boundary plot)."
   ]
  },
  {
   "cell_type": "markdown",
   "id": "ae1d8453",
   "metadata": {},
   "source": [
    "### Question 1 prompt (Logistic Regression, 30 pts)\n",
    "We observe students with predictors $X_1 =$ hours studied and $X_2 =$ cumulative GPA. The binary outcome is $y = 1$ if the student earns an A and $y = 0$ otherwise. A logistic regression model with parameters $w_0 = -7$, $w_1 = 0.05$, and $w_2 = 1$ has already been trained. Complete each part (Python or manual work is acceptable):\n",
    "- **(a)** Compute the probability that a student who studies for 40 hours and has GPA 3.5 earns an A.\n",
    "- **(b)** Solve for the number of study hours needed for a 50% chance at an A when GPA remains 3.5.\n",
    "- **(c)** Report the odds ratio and log-odds for the student in part (a), and interpret the odds ratio.\n",
    "- **(d)** Plot the linear decision boundary $w_0 + w_1 x_1 + w_2 x_2 = 0$ with $X_1$ on the x-axis and $X_2$ on the y-axis. Highlight the regions predicting A vs. not-A and emphasize the (40, 3.5) example (manual or software plot is acceptable).\n"
   ]
  },
  {
   "cell_type": "code",
   "execution_count": 2,
   "id": "7e3a15b3",
   "metadata": {
    "execution": {
     "iopub.execute_input": "2025-10-09T11:04:43.082192Z",
     "iopub.status.busy": "2025-10-09T11:04:43.081602Z",
     "iopub.status.idle": "2025-10-09T11:04:43.520729Z",
     "shell.execute_reply": "2025-10-09T11:04:43.519757Z"
    }
   },
   "outputs": [
    {
     "name": "stdout",
     "output_type": "stream",
     "text": [
      "Part (a)\n",
      "  Log-odds for 40 hrs / 3.5 GPA: -1.50\n",
      "  Probability of earning an A:  0.18\n",
      "\n",
      "Part (b)\n",
      "  Hours needed for 50% chance (same GPA): 70.00\n",
      "\n",
      "Part (c)\n",
      "  Odds ratio: 0.22\n",
      "  Log-odds:   -1.50\n",
      "  Interpretation: For every 1 student expected to earn an A, ~4.48 students are expected not to (given these inputs).\n",
      "\n"
     ]
    },
    {
     "data": {
      "image/png": "[encoded data removed]",
      "text/plain": [
       "<Figure size 900x600 with 1 Axes>"
      ]
     },
     "metadata": {},
     "output_type": "display_data"
    }
   ],
   "source": [
    "# Question 1 - Logistic Regression walkthrough\n",
    "# Break down the toy logistic-regression model that uses study hours (X1) and GPA (X2).\n",
    "import numpy as np\n",
    "import matplotlib.pyplot as plt\n",
    "\n",
    "# ---- Model parameters provided in the prompt ----\n",
    "w0 = -7.0   # intercept term\n",
    "w1 = 0.05   # coefficient for X1 = hours studied\n",
    "w2 = 1.0    # coefficient for X2 = cumulative GPA\n",
    "\n",
    "# ---- Helper values reused across parts (a)-(c) ----\n",
    "hours_example = 40        # X1 from the problem statement\n",
    "gpa_example = 3.5         # X2 from the problem statement\n",
    "\n",
    "def sigmoid(z: float) -> float:\n",
    "    # Standard logistic (sigmoid) function.\n",
    "    return 1.0 / (1.0 + np.exp(-z))\n",
    "\n",
    "# Part (a) -----------------------------------------------------\n",
    "# Compute the linear combination (log-odds) and convert to probability.\n",
    "logit_a = w0 + w1 * hours_example + w2 * gpa_example\n",
    "prob_a = sigmoid(logit_a)\n",
    "\n",
    "print(\"Part (a)\")\n",
    "print(f\"  Log-odds for 40 hrs / 3.5 GPA: {logit_a:.2f}\")\n",
    "print(f\"  Probability of earning an A:  {prob_a:.2f}\\n\")\n",
    "\n",
    "# Part (b) -----------------------------------------------------\n",
    "# Solve w0 + w1 * hours + w2 * GPA = 0 for hours when GPA stays at 3.5\n",
    "# (since logit = 0 corresponds to P = 0.5).\n",
    "target_probability = 0.50\n",
    "target_logit = np.log(target_probability / (1 - target_probability))  # equals 0.0\n",
    "hours_for_half = (-w0 - w2 * gpa_example) / w1\n",
    "\n",
    "print(\"Part (b)\")\n",
    "print(f\"  Hours needed for 50% chance (same GPA): {hours_for_half:.2f}\\n\")\n",
    "\n",
    "# Part (c) -----------------------------------------------------\n",
    "# Odds ratio = exp(log-odds); log-odds already computed as logit_a.\n",
    "odds_ratio_a = np.exp(logit_a)\n",
    "\n",
    "print(\"Part (c)\")\n",
    "print(f\"  Odds ratio: {odds_ratio_a:.2f}\")\n",
    "print(f\"  Log-odds:   {logit_a:.2f}\")\n",
    "print(\"  Interpretation: For every 1 student expected to earn an A, \"\n",
    "      f\"~{(1/odds_ratio_a):.2f} students are expected not to (given these inputs).\\n\")\n",
    "\n",
    "# Part (d) -----------------------------------------------------\n",
    "# Plot the linear decision boundary w0 + w1*x1 + w2*x2 = 0.\n",
    "# Rearranged: x2 = (-w0 - w1*x1) / w2.\n",
    "x1_vals = np.linspace(0, 120, 200)                      # hours studied range\n",
    "decision_boundary = (-w0 - w1 * x1_vals) / w2           # GPA threshold per hour value\n",
    "\n",
    "plt.figure(figsize=(9, 6))\n",
    "plt.plot(x1_vals, decision_boundary, color=\"black\", lw=2,\n",
    "         label=\"Decision boundary (log-odds = 0)\")\n",
    "plt.scatter(hours_example, gpa_example, color=\"darkred\", s=80,\n",
    "            label=\"Example student (40 hrs, 3.5 GPA)\")\n",
    "\n",
    "# Shade the positive (A grade) region: GPA >= boundary (log-odds > 0).\n",
    "plt.fill_between(\n",
    "    x1_vals,\n",
    "    decision_boundary,\n",
    "    4.2,                         # cap shading near the top of the GPA axis\n",
    "    where=decision_boundary <= 4.2,\n",
    "    color=\"mediumseagreen\",\n",
    "    alpha=0.25,\n",
    "    label=\"Region predicting A (y=1)\"\n",
    ")\n",
    "\n",
    "# Shade the negative region: GPA < boundary (log-odds < 0).\n",
    "plt.fill_between(\n",
    "    x1_vals,\n",
    "    0,\n",
    "    decision_boundary,\n",
    "    color=\"lightcoral\",\n",
    "    alpha=0.25,\n",
    "    label=\"Region predicting not-A (y=0)\"\n",
    ")\n",
    "\n",
    "plt.title(\"Logistic Regression Decision Boundary\\n(X1: Hours Studied, X2: GPA)\")\n",
    "plt.xlabel(\"Hours Studied (X1)\")\n",
    "plt.ylabel(\"Cumulative GPA (X2)\")\n",
    "plt.ylim(0, 4.2)\n",
    "plt.xlim(0, 120)\n",
    "plt.grid(True, linestyle=\"--\", alpha=0.4)\n",
    "plt.legend(loc=\"upper right\")\n",
    "plt.show()\n"
   ]
  },
  {
   "cell_type": "markdown",
   "id": "a0149297",
   "metadata": {},
   "source": [
    "## 3. Question 2 - Odds-Ratio and Probability\n",
    "\n",
    "Closed-form transforms between probabilities and odds/odds-ratios for the credit default examples."
   ]
  },
  {
   "cell_type": "markdown",
   "id": "23f2e180",
   "metadata": {},
   "source": [
    "### Question 2 prompt (Odds-ratio and Probability, 20 pts)\n",
    "Answer with Python or manual steps. Round to two decimals.\n",
    "- **(a)** A borrower has a 20% chance of defaulting on her credit card payment ($y = 1$). Compute the odds ratio of defaulting.\n",
    "- **(b)** A man’s odds ratio of defaulting is 0.4. Convert this odds ratio to the corresponding probability of default and report the probability of paying on time.\n"
   ]
  },
  {
   "cell_type": "code",
   "execution_count": 3,
   "id": "befce649",
   "metadata": {
    "execution": {
     "iopub.execute_input": "2025-10-09T11:04:43.524805Z",
     "iopub.status.busy": "2025-10-09T11:04:43.524217Z",
     "iopub.status.idle": "2025-10-09T11:04:43.530856Z",
     "shell.execute_reply": "2025-10-09T11:04:43.530053Z"
    }
   },
   "outputs": [
    {
     "name": "stdout",
     "output_type": "stream",
     "text": [
      "(a) Odds ratio for defaulting with P=0.20: 0.25\n",
      "    Expected on-time payments per default: 4.00\n",
      "(b) Probability implied by odds ratio 0.40: 0.29\n",
      "    Probability of no default: 0.71\n"
     ]
    }
   ],
   "source": [
    "# Question 2 - Odds-ratio and Probability\n",
    "\n",
    "# Part (a): convert the known probability into an odds ratio.\n",
    "prob_default = 0.20\n",
    "odds_default = prob_default / (1 - prob_default)\n",
    "\n",
    "# Part (b): convert the provided odds ratio back into a probability.\n",
    "odds_ratio_man = 0.40\n",
    "prob_from_odds = odds_ratio_man / (1 + odds_ratio_man)\n",
    "\n",
    "print(f\"(a) Odds ratio for defaulting with P=0.20: {odds_default:.2f}\")\n",
    "print(f\"    Expected on-time payments per default: {(1 / odds_default):.2f}\")\n",
    "print(f\"(b) Probability implied by odds ratio 0.40: {prob_from_odds:.2f}\")\n",
    "print(f\"    Probability of no default: {1 - prob_from_odds:.2f}\")\n"
   ]
  },
  {
   "cell_type": "markdown",
   "id": "baa5d079",
   "metadata": {},
   "source": [
    "## 4. Question 3 - Support Vector Machine Interpretation\n",
    "\n",
    "- **(a)** Support vectors: {1, 2, 7, 8, 9, 11, 12}. Seven points lie on or inside the margins, so they define the separator.\n",
    "- **(b)** Instance 4 sits outside the margins, so small movements leave the optimal hyperplane unchanged until it touches a margin and becomes a support vector.\n",
    "- **(c)** Instances 1, 2, 7, 8, and 9 fall inside a margin yet keep the correct label. They incur hinge loss without being misclassified (5 instances).\n",
    "- **(d)** Instances 11 and 12 are on the wrong side of the hyperplane, so they are misclassified (2 instances).\n"
   ]
  },
  {
   "cell_type": "markdown",
   "id": "64b2bf10",
   "metadata": {},
   "source": [
    "### Question 3 prompt (Support Vector Machine, 20 pts)\n",
    "A support vector classifier is fit on 12 labeled points (blue = positive, red = negative). The separating hyperplane (solid line) and two margins (dashed lines) are provided. Respond in words:\n",
    "- **(a)** List how many observations are support vectors and identify them.\n",
    "- **(b)** If instance 4 (a red point) moves closer to its margin, explain whether the separating hyperplane changes.\n",
    "- **(c)** Identify the observations that incur hinge loss while remaining correctly classified.\n",
    "- **(d)** Identify the observations that the classifier misclassifies.\n"
   ]
  },
  {
   "cell_type": "markdown",
   "id": "b8018704",
   "metadata": {},
   "source": [
    "### Question 3 solution summary\n",
    "- **(a)** Support vectors: observations 1, 2, 7, 8, 9, 11, and 12 (7 total).\n",
    "- **(b)** Moving point 4 has no impact until it reaches a margin and becomes a support vector; only then would the hyperplane adjust.\n",
    "- **(c)** Hinge loss without misclassification occurs for points 1, 2, 7, 8, and 9 (5 instances).\n",
    "- **(d)** Misclassified observations: 11 and 12 (2 instances).\n"
   ]
  },
  {
   "cell_type": "markdown",
   "id": "c818a2a3",
   "metadata": {},
   "source": [
    "## 5. Question 4 - Logistic Regression with `smoking.csv`\n",
    "\n",
    "Follow the requested mini workflow: split, scale, fit, interpret coefficients, evaluate accuracy, and score a new profile."
   ]
  },
  {
   "cell_type": "markdown",
   "id": "b3703a3b",
   "metadata": {},
   "source": [
    "### Question 4 prompt (Logistic Regression with `smoking.csv`, 30 pts)\n",
    "Use Python with the provided dataset to complete each part:\n",
    "- **(a)** Load `smoking.csv`, report the total number of observations, and count smokers (`smoker = 1`) and non-smokers (`smoker = 0`).\n",
    "- **(b)** Select features `smkban`, `female`, and `age` with target `smoker`. Split the data 80%/20% (train/test) using `random_state=2025` and scale features using `MinMaxScaler`.\n",
    "- **(c)** Train a logistic regression model, show the intercept and coefficients, and interpret each coefficient.\n",
    "- **(d)** Evaluate accuracy on train and test sets (rounded to two decimals) and display the confusion matrix for the test set.\n",
    "- **(e)** Predict smoking status and probability for a 48-year-old male in a country without a smoking ban (use the fitted scaler before scoring).\n"
   ]
  },
  {
   "cell_type": "markdown",
   "id": "5d0fa958",
   "metadata": {},
   "source": [
    "### 5.a Dataset overview and class balance"
   ]
  },
  {
   "cell_type": "code",
   "execution_count": 4,
   "id": "13923ef9",
   "metadata": {
    "execution": {
     "iopub.execute_input": "2025-10-09T11:04:43.534939Z",
     "iopub.status.busy": "2025-10-09T11:04:43.534504Z",
     "iopub.status.idle": "2025-10-09T11:04:43.541568Z",
     "shell.execute_reply": "2025-10-09T11:04:43.540515Z"
    }
   },
   "outputs": [
    {
     "name": "stdout",
     "output_type": "stream",
     "text": [
      "Total rows: 10000\n",
      "Class counts (0 = non-smoker, 1 = smoker):\n",
      "  0: 7577 (75.77%)\n",
      "  1: 2423 (24.23%)\n"
     ]
    }
   ],
   "source": [
    "# Part (a) - dataset overview for logistic regression\n",
    "# Focus on the three requested predictors plus the binary target.\n",
    "feature_cols = [\"smkban\", \"female\", \"age\"]\n",
    "target_col = \"smoker\"\n",
    "\n",
    "num_rows = len(smoking_df)\n",
    "class_counts = smoking_df[target_col].value_counts().sort_index()\n",
    "\n",
    "print(f\"Total rows: {num_rows}\")\n",
    "print(\"Class counts (0 = non-smoker, 1 = smoker):\")\n",
    "for cls_value, count in class_counts.items():\n",
    "    share = count / num_rows\n",
    "    print(f\"  {cls_value}: {count} ({share:.2%})\")\n"
   ]
  },
  {
   "cell_type": "markdown",
   "id": "29aa7a41",
   "metadata": {},
   "source": [
    "### 5.b Train/test split with MinMax scaling"
   ]
  },
  {
   "cell_type": "code",
   "execution_count": 5,
   "id": "3b10d362",
   "metadata": {
    "execution": {
     "iopub.execute_input": "2025-10-09T11:04:43.545695Z",
     "iopub.status.busy": "2025-10-09T11:04:43.545306Z",
     "iopub.status.idle": "2025-10-09T11:04:43.569928Z",
     "shell.execute_reply": "2025-10-09T11:04:43.568999Z"
    }
   },
   "outputs": [
    {
     "name": "stdout",
     "output_type": "stream",
     "text": [
      "Scaled feature range summary (train set)\n"
     ]
    },
    {
     "data": {
      "text/html": [
       "<div>\n",
       "<style scoped>\n",
       "    .dataframe tbody tr th:only-of-type {\n",
       "        vertical-align: middle;\n",
       "    }\n",
       "\n",
       "    .dataframe tbody tr th {\n",
       "        vertical-align: top;\n",
       "    }\n",
       "\n",
       "    .dataframe thead th {\n",
       "        text-align: right;\n",
       "    }\n",
       "</style>\n",
       "<table border=\"1\" class=\"dataframe\">\n",
       "  <thead>\n",
       "    <tr style=\"text-align: right;\">\n",
       "      <th></th>\n",
       "      <th>feature</th>\n",
       "      <th>train_min</th>\n",
       "      <th>train_max</th>\n",
       "    </tr>\n",
       "  </thead>\n",
       "  <tbody>\n",
       "    <tr>\n",
       "      <th>0</th>\n",
       "      <td>smkban</td>\n",
       "      <td>0.0</td>\n",
       "      <td>1.0</td>\n",
       "    </tr>\n",
       "    <tr>\n",
       "      <th>1</th>\n",
       "      <td>female</td>\n",
       "      <td>0.0</td>\n",
       "      <td>1.0</td>\n",
       "    </tr>\n",
       "    <tr>\n",
       "      <th>2</th>\n",
       "      <td>age</td>\n",
       "      <td>0.0</td>\n",
       "      <td>1.0</td>\n",
       "    </tr>\n",
       "  </tbody>\n",
       "</table>\n",
       "</div>"
      ],
      "text/plain": [
       "  feature  train_min  train_max\n",
       "0  smkban        0.0        1.0\n",
       "1  female        0.0        1.0\n",
       "2     age        0.0        1.0"
      ]
     },
     "metadata": {},
     "output_type": "display_data"
    }
   ],
   "source": [
    "# Part (b) - split and scale features\n",
    "# Keep stratified sampling to preserve the original class balance.\n",
    "X = smoking_df[feature_cols]\n",
    "y = smoking_df[target_col]\n",
    "\n",
    "X_train, X_test, y_train, y_test = train_test_split(\n",
    "    X, y, test_size=0.20, random_state=2025, stratify=y\n",
    ")\n",
    "\n",
    "scaler = MinMaxScaler()\n",
    "X_train_scaled = scaler.fit_transform(X_train)\n",
    "X_test_scaled = scaler.transform(X_test)\n",
    "\n",
    "# Capture min/max values for transparency after scaling.\n",
    "X_train_scaled_df = pd.DataFrame(X_train_scaled, columns=feature_cols, index=X_train.index)\n",
    "X_test_scaled_df = pd.DataFrame(X_test_scaled, columns=feature_cols, index=X_test.index)\n",
    "\n",
    "scaling_summary = pd.DataFrame({\n",
    "    \"feature\": feature_cols,\n",
    "    \"train_min\": X_train_scaled_df.min().values,\n",
    "    \"train_max\": X_train_scaled_df.max().values,\n",
    "})\n",
    "print(\"Scaled feature range summary (train set)\")\n",
    "display(scaling_summary)\n"
   ]
  },
  {
   "cell_type": "markdown",
   "id": "0df21b10",
   "metadata": {},
   "source": [
    "### 5.c Model fitting and coefficient interpretation"
   ]
  },
  {
   "cell_type": "code",
   "execution_count": 6,
   "id": "4d55ee83",
   "metadata": {
    "execution": {
     "iopub.execute_input": "2025-10-09T11:04:43.573436Z",
     "iopub.status.busy": "2025-10-09T11:04:43.572990Z",
     "iopub.status.idle": "2025-10-09T11:04:43.598245Z",
     "shell.execute_reply": "2025-10-09T11:04:43.597204Z"
    }
   },
   "outputs": [
    {
     "name": "stdout",
     "output_type": "stream",
     "text": [
      "Intercept: -1.97\n"
     ]
    },
    {
     "data": {
      "text/html": [
       "<div>\n",
       "<style scoped>\n",
       "    .dataframe tbody tr th:only-of-type {\n",
       "        vertical-align: middle;\n",
       "    }\n",
       "\n",
       "    .dataframe tbody tr th {\n",
       "        vertical-align: top;\n",
       "    }\n",
       "\n",
       "    .dataframe thead th {\n",
       "        text-align: right;\n",
       "    }\n",
       "</style>\n",
       "<table border=\"1\" class=\"dataframe\">\n",
       "  <thead>\n",
       "    <tr style=\"text-align: right;\">\n",
       "      <th></th>\n",
       "      <th>coefficient</th>\n",
       "    </tr>\n",
       "  </thead>\n",
       "  <tbody>\n",
       "    <tr>\n",
       "      <th>smkban</th>\n",
       "      <td>-1.51</td>\n",
       "    </tr>\n",
       "    <tr>\n",
       "      <th>female</th>\n",
       "      <td>-0.70</td>\n",
       "    </tr>\n",
       "    <tr>\n",
       "      <th>age</th>\n",
       "      <td>5.07</td>\n",
       "    </tr>\n",
       "  </tbody>\n",
       "</table>\n",
       "</div>"
      ],
      "text/plain": [
       "        coefficient\n",
       "smkban        -1.51\n",
       "female        -0.70\n",
       "age            5.07"
      ]
     },
     "metadata": {},
     "output_type": "display_data"
    },
    {
     "name": "stdout",
     "output_type": "stream",
     "text": [
      "Interpretation (log-odds change per +1 in scaled feature):\n",
      "  +1.00 in scaled smkban decreases smoker log-odds by -1.51\n",
      "  +1.00 in scaled female decreases smoker log-odds by -0.70\n",
      "  +1.00 in scaled age increases smoker log-odds by 5.07\n"
     ]
    }
   ],
   "source": [
    "# Part (c) - fit logistic regression and inspect coefficients\n",
    "# Use lbfgs with a higher iteration cap for reliable convergence.\n",
    "log_reg_model = LogisticRegression(max_iter=1000, solver=\"lbfgs\")\n",
    "log_reg_model.fit(X_train_scaled, y_train)\n",
    "\n",
    "intercept = float(log_reg_model.intercept_[0])\n",
    "coefficients = pd.Series(log_reg_model.coef_[0], index=feature_cols)\n",
    "\n",
    "print(f\"Intercept: {intercept:.2f}\")\n",
    "coef_df = coefficients.round(2).rename(\"coefficient\").to_frame()\n",
    "display(coef_df)\n",
    "print(\"Interpretation (log-odds change per +1 in scaled feature):\")\n",
    "for feature, coef in coefficients.items():\n",
    "    if coef > 0:\n",
    "        direction = \"increases\"\n",
    "    elif coef < 0:\n",
    "        direction = \"decreases\"\n",
    "    else:\n",
    "        direction = \"does not change\"\n",
    "    print(f\"  +1.00 in scaled {feature} {direction} smoker log-odds by {coef:.2f}\")\n"
   ]
  },
  {
   "cell_type": "markdown",
   "id": "b0e91641",
   "metadata": {},
   "source": [
    "### 5.d Evaluation metrics on train/test folds"
   ]
  },
  {
   "cell_type": "code",
   "execution_count": 7,
   "id": "b13ed762",
   "metadata": {
    "execution": {
     "iopub.execute_input": "2025-10-09T11:04:43.601811Z",
     "iopub.status.busy": "2025-10-09T11:04:43.601373Z",
     "iopub.status.idle": "2025-10-09T11:04:43.616950Z",
     "shell.execute_reply": "2025-10-09T11:04:43.615968Z"
    }
   },
   "outputs": [
    {
     "name": "stdout",
     "output_type": "stream",
     "text": [
      "Train accuracy: 0.79\n",
      "Test accuracy: 0.78\n",
      "Test confusion matrix:\n"
     ]
    },
    {
     "data": {
      "text/html": [
       "<div>\n",
       "<style scoped>\n",
       "    .dataframe tbody tr th:only-of-type {\n",
       "        vertical-align: middle;\n",
       "    }\n",
       "\n",
       "    .dataframe tbody tr th {\n",
       "        vertical-align: top;\n",
       "    }\n",
       "\n",
       "    .dataframe thead th {\n",
       "        text-align: right;\n",
       "    }\n",
       "</style>\n",
       "<table border=\"1\" class=\"dataframe\">\n",
       "  <thead>\n",
       "    <tr style=\"text-align: right;\">\n",
       "      <th></th>\n",
       "      <th>pred_0</th>\n",
       "      <th>pred_1</th>\n",
       "    </tr>\n",
       "  </thead>\n",
       "  <tbody>\n",
       "    <tr>\n",
       "      <th>actual_0</th>\n",
       "      <td>1393</td>\n",
       "      <td>122</td>\n",
       "    </tr>\n",
       "    <tr>\n",
       "      <th>actual_1</th>\n",
       "      <td>320</td>\n",
       "      <td>165</td>\n",
       "    </tr>\n",
       "  </tbody>\n",
       "</table>\n",
       "</div>"
      ],
      "text/plain": [
       "          pred_0  pred_1\n",
       "actual_0    1393     122\n",
       "actual_1     320     165"
      ]
     },
     "metadata": {},
     "output_type": "display_data"
    }
   ],
   "source": [
    "# Part (d) - accuracy on train and test splits\n",
    "# Evaluate accuracy and show the confusion matrix to reveal class-level balance.\n",
    "train_pred = log_reg_model.predict(X_train_scaled)\n",
    "test_pred = log_reg_model.predict(X_test_scaled)\n",
    "\n",
    "train_acc = accuracy_score(y_train, train_pred)\n",
    "test_acc = accuracy_score(y_test, test_pred)\n",
    "\n",
    "print(f\"Train accuracy: {train_acc:.2f}\")\n",
    "print(f\"Test accuracy: {test_acc:.2f}\")\n",
    "cm = pd.DataFrame(\n",
    "    confusion_matrix(y_test, test_pred),\n",
    "    index=[\"actual_0\", \"actual_1\"],\n",
    "    columns=[\"pred_0\", \"pred_1\"],\n",
    ")\n",
    "print(\"Test confusion matrix:\")\n",
    "display(cm)\n"
   ]
  },
  {
   "cell_type": "markdown",
   "id": "70280ebf",
   "metadata": {},
   "source": [
    "### 5.e Prediction for the hypothetical individual"
   ]
  },
  {
   "cell_type": "code",
   "execution_count": 8,
   "id": "52576389",
   "metadata": {
    "execution": {
     "iopub.execute_input": "2025-10-09T11:04:43.620254Z",
     "iopub.status.busy": "2025-10-09T11:04:43.619912Z",
     "iopub.status.idle": "2025-10-09T11:04:43.630604Z",
     "shell.execute_reply": "2025-10-09T11:04:43.629655Z"
    }
   },
   "outputs": [
    {
     "name": "stdout",
     "output_type": "stream",
     "text": [
      "Predicted class (1=smoker): 1\n",
      "Estimated probability of smoking: 0.60\n"
     ]
    }
   ],
   "source": [
    "# Part (e) - prediction for a new individual\n",
    "# Transform the single observation with the same scaler prior to scoring.\n",
    "new_person = pd.DataFrame({\n",
    "    \"smkban\": [0],\n",
    "    \"female\": [0],\n",
    "    \"age\": [48],\n",
    "})\n",
    "new_scaled = scaler.transform(new_person[feature_cols])\n",
    "p_smoker = log_reg_model.predict_proba(new_scaled)[0, 1]\n",
    "pred_label = log_reg_model.predict(new_scaled)[0]\n",
    "print(f\"Predicted class (1=smoker): {int(pred_label)}\")\n",
    "print(f\"Estimated probability of smoking: {p_smoker:.2f}\")\n"
   ]
  }
 ],
 "metadata": {
  "kernelspec": {
   "display_name": "base",
   "language": "python",
   "name": "python3"
  },
  "language_info": {
   "codemirror_mode": {
    "name": "ipython",
    "version": 3
   },
   "file_extension": ".py",
   "mimetype": "text/x-python",
   "name": "python",
   "nbconvert_exporter": "python",
   "pygments_lexer": "ipython3",
   "version": "3.13.7"
  }
 },
 "nbformat": 4,
 "nbformat_minor": 5
}
