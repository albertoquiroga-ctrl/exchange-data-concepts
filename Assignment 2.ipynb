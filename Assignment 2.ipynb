{
 "cells": [
  {
   "cell_type": "markdown",
   "id": "fe87a9b6",
   "metadata": {},
   "source": [
    "# Assignment 2 Notebook Overview\n",
    "\n",
    "> Note 1: for answers with Python, display both codes and results clearly. You may explain \n",
    "answers with either comments, markdowns or print() function.\n",
    "\n",
    "> Note 2: for answers with manual calculation, please display all calculation steps clearly. \n",
    "\n",
    "> Note 3: round all numerical answers to 2 decimal places.    "
   ]
  },
  {
   "cell_type": "markdown",
   "id": "0fcbe171",
   "metadata": {},
   "source": [
    "## 0. Environment Setup and First Look\n",
    "\n",
    "Load helper libraries, style the plotting backend, and pull the shared `smoking.csv` dataset for reuse across later sections."
   ]
  },
  {
   "cell_type": "code",
   "execution_count": null,
   "id": "b29362a2",
   "metadata": {
    "vscode": {
     "languageId": "plaintext"
    }
   },
   "outputs": [],
   "source": [
    "import pandas as pd\n",
    "import numpy as np\n",
    "import matplotlib.pyplot as plt\n",
    "\n",
    "from sklearn.linear_model import LogisticRegression\n",
    "from sklearn.model_selection import train_test_split\n",
    "from sklearn.preprocessing import MinMaxScaler\n",
    "from sklearn.metrics import accuracy_score  "
   ]
  },
  {
   "cell_type": "markdown",
   "id": "d1f7a4df",
   "metadata": {},
   "source": [
    "### First Look"
   ]
  }
 ],
 "metadata": {
  "language_info": {
   "name": "python"
  }
 },
 "nbformat": 4,
 "nbformat_minor": 5
}
