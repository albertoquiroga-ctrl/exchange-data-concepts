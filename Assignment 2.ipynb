{
 "cells": [
  {
   "cell_type": "markdown",
   "id": "fe87a9b6",
   "metadata": {},
   "source": [
    "# Assignment 2 Notebook Overview\n",
    "\n",
    "> Note 1: for answers with Python, display both codes and results clearly. You may explain \n",
    "answers with either comments, markdowns or print() function.\n",
    "\n",
    "> Note 2: for answers with manual calculation, please display all calculation steps clearly. \n",
    "\n",
    "> Note 3: round all numerical answers to 2 decimal places.    "
   ]
  },
  {
   "cell_type": "markdown",
   "id": "0fcbe171",
   "metadata": {},
   "source": [
    "## 0. Environment Setup and First Look\n",
    "\n",
    "Load helper libraries, style the plotting backend, and pull the shared `smoking.csv` dataset for reuse across later sections."
   ]
  },
  {
   "cell_type": "code",
   "execution_count": 11,
   "id": "b29362a2",
   "metadata": {},
   "outputs": [],
   "source": [
    "import pandas as pd\n",
    "import numpy as np\n",
    "import matplotlib.pyplot as plt\n",
    "import seaborn as sns  \n",
    "\n",
    "from sklearn.linear_model import LogisticRegression\n",
    "from sklearn.model_selection import train_test_split\n",
    "from sklearn.preprocessing import MinMaxScaler\n",
    "from sklearn.metrics import accuracy_score  "
   ]
  },
  {
   "cell_type": "markdown",
   "id": "d1f7a4df",
   "metadata": {},
   "source": [
    "### First Look"
   ]
  },
  {
   "cell_type": "code",
   "execution_count": 12,
   "id": "06bb2a38",
   "metadata": {},
   "outputs": [
    {
     "name": "stdout",
     "output_type": "stream",
     "text": [
      "Dataset overview\n",
      "Rows:    10000\n",
      "Columns: 10\n",
      "Column names in order:\n",
      "<class 'pandas.core.frame.DataFrame'>\n",
      "RangeIndex: 10000 entries, 0 to 9999\n",
      "Data columns (total 10 columns):\n",
      " #   Column    Non-Null Count  Dtype\n",
      "---  ------    --------------  -----\n",
      " 0   smoker    10000 non-null  int64\n",
      " 1   smkban    10000 non-null  int64\n",
      " 2   age       10000 non-null  int64\n",
      " 3   hsdrop    10000 non-null  int64\n",
      " 4   hsgrad    10000 non-null  int64\n",
      " 5   colsome   10000 non-null  int64\n",
      " 6   colgrad   10000 non-null  int64\n",
      " 7   black     10000 non-null  int64\n",
      " 8   hispanic  10000 non-null  int64\n",
      " 9   female    10000 non-null  int64\n",
      "dtypes: int64(10)\n",
      "memory usage: 781.4 KB\n"
     ]
    },
    {
     "data": {
      "text/plain": [
       "None"
      ]
     },
     "metadata": {},
     "output_type": "display_data"
    },
    {
     "name": "stdout",
     "output_type": "stream",
     "text": [
      "Summary stats for numeric + categorical\n"
     ]
    },
    {
     "data": {
      "text/html": [
       "<div>\n",
       "<style scoped>\n",
       "    .dataframe tbody tr th:only-of-type {\n",
       "        vertical-align: middle;\n",
       "    }\n",
       "\n",
       "    .dataframe tbody tr th {\n",
       "        vertical-align: top;\n",
       "    }\n",
       "\n",
       "    .dataframe thead th {\n",
       "        text-align: right;\n",
       "    }\n",
       "</style>\n",
       "<table border=\"1\" class=\"dataframe\">\n",
       "  <thead>\n",
       "    <tr style=\"text-align: right;\">\n",
       "      <th></th>\n",
       "      <th>count</th>\n",
       "      <th>mean</th>\n",
       "      <th>std</th>\n",
       "      <th>min</th>\n",
       "      <th>25%</th>\n",
       "      <th>50%</th>\n",
       "      <th>75%</th>\n",
       "      <th>max</th>\n",
       "    </tr>\n",
       "  </thead>\n",
       "  <tbody>\n",
       "    <tr>\n",
       "      <th>smoker</th>\n",
       "      <td>10000.0</td>\n",
       "      <td>0.2423</td>\n",
       "      <td>0.428496</td>\n",
       "      <td>0.0</td>\n",
       "      <td>0.0</td>\n",
       "      <td>0.0</td>\n",
       "      <td>0.0</td>\n",
       "      <td>1.0</td>\n",
       "    </tr>\n",
       "    <tr>\n",
       "      <th>smkban</th>\n",
       "      <td>10000.0</td>\n",
       "      <td>0.5466</td>\n",
       "      <td>0.497849</td>\n",
       "      <td>0.0</td>\n",
       "      <td>0.0</td>\n",
       "      <td>1.0</td>\n",
       "      <td>1.0</td>\n",
       "      <td>1.0</td>\n",
       "    </tr>\n",
       "    <tr>\n",
       "      <th>age</th>\n",
       "      <td>10000.0</td>\n",
       "      <td>37.6008</td>\n",
       "      <td>12.997166</td>\n",
       "      <td>14.0</td>\n",
       "      <td>28.0</td>\n",
       "      <td>37.0</td>\n",
       "      <td>46.0</td>\n",
       "      <td>86.0</td>\n",
       "    </tr>\n",
       "    <tr>\n",
       "      <th>hsdrop</th>\n",
       "      <td>10000.0</td>\n",
       "      <td>0.0912</td>\n",
       "      <td>0.287908</td>\n",
       "      <td>0.0</td>\n",
       "      <td>0.0</td>\n",
       "      <td>0.0</td>\n",
       "      <td>0.0</td>\n",
       "      <td>1.0</td>\n",
       "    </tr>\n",
       "    <tr>\n",
       "      <th>hsgrad</th>\n",
       "      <td>10000.0</td>\n",
       "      <td>0.3266</td>\n",
       "      <td>0.468993</td>\n",
       "      <td>0.0</td>\n",
       "      <td>0.0</td>\n",
       "      <td>0.0</td>\n",
       "      <td>1.0</td>\n",
       "      <td>1.0</td>\n",
       "    </tr>\n",
       "    <tr>\n",
       "      <th>colsome</th>\n",
       "      <td>10000.0</td>\n",
       "      <td>0.2802</td>\n",
       "      <td>0.449119</td>\n",
       "      <td>0.0</td>\n",
       "      <td>0.0</td>\n",
       "      <td>0.0</td>\n",
       "      <td>1.0</td>\n",
       "      <td>1.0</td>\n",
       "    </tr>\n",
       "    <tr>\n",
       "      <th>colgrad</th>\n",
       "      <td>10000.0</td>\n",
       "      <td>0.1972</td>\n",
       "      <td>0.397905</td>\n",
       "      <td>0.0</td>\n",
       "      <td>0.0</td>\n",
       "      <td>0.0</td>\n",
       "      <td>0.0</td>\n",
       "      <td>1.0</td>\n",
       "    </tr>\n",
       "    <tr>\n",
       "      <th>black</th>\n",
       "      <td>10000.0</td>\n",
       "      <td>0.0769</td>\n",
       "      <td>0.266446</td>\n",
       "      <td>0.0</td>\n",
       "      <td>0.0</td>\n",
       "      <td>0.0</td>\n",
       "      <td>0.0</td>\n",
       "      <td>1.0</td>\n",
       "    </tr>\n",
       "    <tr>\n",
       "      <th>hispanic</th>\n",
       "      <td>10000.0</td>\n",
       "      <td>0.1134</td>\n",
       "      <td>0.317097</td>\n",
       "      <td>0.0</td>\n",
       "      <td>0.0</td>\n",
       "      <td>0.0</td>\n",
       "      <td>0.0</td>\n",
       "      <td>1.0</td>\n",
       "    </tr>\n",
       "    <tr>\n",
       "      <th>female</th>\n",
       "      <td>10000.0</td>\n",
       "      <td>0.5268</td>\n",
       "      <td>0.499306</td>\n",
       "      <td>0.0</td>\n",
       "      <td>0.0</td>\n",
       "      <td>1.0</td>\n",
       "      <td>1.0</td>\n",
       "      <td>1.0</td>\n",
       "    </tr>\n",
       "  </tbody>\n",
       "</table>\n",
       "</div>"
      ],
      "text/plain": [
       "            count     mean        std   min   25%   50%   75%   max\n",
       "smoker    10000.0   0.2423   0.428496   0.0   0.0   0.0   0.0   1.0\n",
       "smkban    10000.0   0.5466   0.497849   0.0   0.0   1.0   1.0   1.0\n",
       "age       10000.0  37.6008  12.997166  14.0  28.0  37.0  46.0  86.0\n",
       "hsdrop    10000.0   0.0912   0.287908   0.0   0.0   0.0   0.0   1.0\n",
       "hsgrad    10000.0   0.3266   0.468993   0.0   0.0   0.0   1.0   1.0\n",
       "colsome   10000.0   0.2802   0.449119   0.0   0.0   0.0   1.0   1.0\n",
       "colgrad   10000.0   0.1972   0.397905   0.0   0.0   0.0   0.0   1.0\n",
       "black     10000.0   0.0769   0.266446   0.0   0.0   0.0   0.0   1.0\n",
       "hispanic  10000.0   0.1134   0.317097   0.0   0.0   0.0   0.0   1.0\n",
       "female    10000.0   0.5268   0.499306   0.0   0.0   1.0   1.0   1.0"
      ]
     },
     "metadata": {},
     "output_type": "display_data"
    },
    {
     "name": "stdout",
     "output_type": "stream",
     "text": [
      "First 5 rows\n"
     ]
    },
    {
     "data": {
      "text/html": [
       "<div>\n",
       "<style scoped>\n",
       "    .dataframe tbody tr th:only-of-type {\n",
       "        vertical-align: middle;\n",
       "    }\n",
       "\n",
       "    .dataframe tbody tr th {\n",
       "        vertical-align: top;\n",
       "    }\n",
       "\n",
       "    .dataframe thead th {\n",
       "        text-align: right;\n",
       "    }\n",
       "</style>\n",
       "<table border=\"1\" class=\"dataframe\">\n",
       "  <thead>\n",
       "    <tr style=\"text-align: right;\">\n",
       "      <th></th>\n",
       "      <th>smoker</th>\n",
       "      <th>smkban</th>\n",
       "      <th>age</th>\n",
       "      <th>hsdrop</th>\n",
       "      <th>hsgrad</th>\n",
       "      <th>colsome</th>\n",
       "      <th>colgrad</th>\n",
       "      <th>black</th>\n",
       "      <th>hispanic</th>\n",
       "      <th>female</th>\n",
       "    </tr>\n",
       "  </thead>\n",
       "  <tbody>\n",
       "    <tr>\n",
       "      <th>0</th>\n",
       "      <td>1</td>\n",
       "      <td>0</td>\n",
       "      <td>49</td>\n",
       "      <td>0</td>\n",
       "      <td>1</td>\n",
       "      <td>0</td>\n",
       "      <td>0</td>\n",
       "      <td>0</td>\n",
       "      <td>0</td>\n",
       "      <td>0</td>\n",
       "    </tr>\n",
       "    <tr>\n",
       "      <th>1</th>\n",
       "      <td>1</td>\n",
       "      <td>0</td>\n",
       "      <td>52</td>\n",
       "      <td>0</td>\n",
       "      <td>0</td>\n",
       "      <td>1</td>\n",
       "      <td>0</td>\n",
       "      <td>0</td>\n",
       "      <td>0</td>\n",
       "      <td>0</td>\n",
       "    </tr>\n",
       "    <tr>\n",
       "      <th>2</th>\n",
       "      <td>0</td>\n",
       "      <td>0</td>\n",
       "      <td>15</td>\n",
       "      <td>0</td>\n",
       "      <td>0</td>\n",
       "      <td>1</td>\n",
       "      <td>0</td>\n",
       "      <td>0</td>\n",
       "      <td>0</td>\n",
       "      <td>1</td>\n",
       "    </tr>\n",
       "    <tr>\n",
       "      <th>3</th>\n",
       "      <td>1</td>\n",
       "      <td>0</td>\n",
       "      <td>37</td>\n",
       "      <td>0</td>\n",
       "      <td>1</td>\n",
       "      <td>0</td>\n",
       "      <td>0</td>\n",
       "      <td>0</td>\n",
       "      <td>0</td>\n",
       "      <td>0</td>\n",
       "    </tr>\n",
       "    <tr>\n",
       "      <th>4</th>\n",
       "      <td>0</td>\n",
       "      <td>1</td>\n",
       "      <td>24</td>\n",
       "      <td>0</td>\n",
       "      <td>0</td>\n",
       "      <td>1</td>\n",
       "      <td>0</td>\n",
       "      <td>0</td>\n",
       "      <td>0</td>\n",
       "      <td>1</td>\n",
       "    </tr>\n",
       "  </tbody>\n",
       "</table>\n",
       "</div>"
      ],
      "text/plain": [
       "   smoker  smkban  age  hsdrop  hsgrad  colsome  colgrad  black  hispanic  \\\n",
       "0       1       0   49       0       1        0        0      0         0   \n",
       "1       1       0   52       0       0        1        0      0         0   \n",
       "2       0       0   15       0       0        1        0      0         0   \n",
       "3       1       0   37       0       1        0        0      0         0   \n",
       "4       0       1   24       0       0        1        0      0         0   \n",
       "\n",
       "   female  \n",
       "0       0  \n",
       "1       0  \n",
       "2       1  \n",
       "3       0  \n",
       "4       1  "
      ]
     },
     "metadata": {},
     "output_type": "display_data"
    }
   ],
   "source": [
    "from pathlib import Path\n",
    "\n",
    "# Load the assignment dataset (ships with the notebook repository)\n",
    "# ------------------------------------------------------------------\n",
    "DATA_PATH = Path(\"smoking.csv\")          # update if you store the CSV elsewhere\n",
    "smoking_df = pd.read_csv(DATA_PATH)      # load the CSV into a pandas DataFrame\n",
    "\n",
    "# ------------------------------------------------------------------\n",
    "# Lightweight structural checks (verbose on purpose for clarity)\n",
    "# ------------------------------------------------------------------\n",
    "print(\"Dataset overview\")\n",
    "print(f\"Rows:    {smoking_df.shape[0]}\")\n",
    "print(f\"Columns: {smoking_df.shape[1]}\")\n",
    "print(\"Column names in order:\")\n",
    "display(smoking_df.info())  # includes non-null counts and types\n",
    "print(\"Summary stats for numeric + categorical\")\n",
    "display(smoking_df.describe().T)  # transpose for better readability\n",
    "print(\"First 5 rows\")\n",
    "display(smoking_df.head())  # first 5 rows"
   ]
  },
  {
   "cell_type": "markdown",
   "id": "f24ae9b5",
   "metadata": {},
   "source": [
    "## 1. Question 1 - Logistic Regression Walkthrough\n",
    "\n",
    "Suppose we collect data for a group of students in a course with variables 𝑋1 = ℎ𝑜𝑢𝑟𝑠 𝑠𝑡𝑢𝑑𝑖𝑒𝑑, 𝑋2 = 𝐶𝑢𝑚𝑢𝑙𝑎𝑡𝑖𝑣𝑒  𝑃𝐴, and 𝑦 = 1 if the student receives an A in this course and 𝑦 = 0 otherwise. We trained a logistic regression model on this dataset to predict whether a student can receive A with features 𝑋1 and 𝑋2, the estimated parameters are  𝑤0 = −7, 𝑤1 = 0.05, 𝑤2 = 1.  Answer the following questions with either Python or manual calculation.  "
   ]
  },
  {
   "cell_type": "code",
   "execution_count": 13,
   "id": "62f39d2d",
   "metadata": {},
   "outputs": [],
   "source": [
    "w0 = -7.0   # intercept term\n",
    "w1 = 0.05   # coefficient for X1 = hours studied\n",
    "w2 = 1.0    # coefficient for X2 = cumulative GPA"
   ]
  },
  {
   "cell_type": "markdown",
   "id": "56f85abc",
   "metadata": {},
   "source": [
    "### (a) What is the probability that a student who studies for 40 hours and has a cumulative GPA of 3.5 gets an A in the class?   "
   ]
  },
  {
   "cell_type": "code",
   "execution_count": 14,
   "id": "2e4e6379",
   "metadata": {},
   "outputs": [
    {
     "name": "stdout",
     "output_type": "stream",
     "text": [
      "Part (a)\n",
      "  The predicted probability that a student who studies for 40 hours and has a cumulative GPA of 3.5 gets an A in the class is approximately 0.18\n"
     ]
    }
   ],
   "source": [
    "hours_example = 40        # X1 from the problem statement\n",
    "gpa_example = 3.5         # X2 from the problem statement\n",
    "\n",
    "# Compute the predicted score using the linear model\n",
    "predicted_score = w0 + w1 * hours_example + w2 * gpa_example\n",
    "\n",
    "# Compute the predicted probability using the logistic function (sigmoid)\n",
    "predicted_probability = 1 / (1 + np.exp(-predicted_score))\n",
    "\n",
    "print(\"Part (a)\")\n",
    "print(f\"  The predicted probability that a student who studies for {hours_example} hours and has a cumulative GPA of {gpa_example} gets an A in the class is approximately {predicted_probability:.2f}\")"
   ]
  },
  {
   "cell_type": "markdown",
   "id": "a32c1624",
   "metadata": {},
   "source": [
    "### (b) How many hours would the student in step (a) need to study to have a 50% chance of getting an A in the class? "
   ]
  },
  {
   "cell_type": "code",
   "execution_count": 15,
   "id": "a8d13ad3",
   "metadata": {},
   "outputs": [
    {
     "name": "stdout",
     "output_type": "stream",
     "text": [
      "Part (b)\n",
      "  Hours needed for 50% chance (same GPA): 70.00\n"
     ]
    }
   ],
   "source": [
    "# Solve w0 + w1 * hours + w2 * GPA = 0 for hours when GPA stays at 3.5\n",
    "# (since logit = 0 corresponds to P = 0.5).\n",
    "target_probability = 0.50\n",
    "target_logit = np.log(target_probability / (1 - target_probability))  # equals 0.0\n",
    "hours_for_half = (-w0 - w2 * gpa_example) / w1\n",
    "\n",
    "print(\"Part (b)\")\n",
    "print(f\"  Hours needed for 50% chance (same GPA): {hours_for_half:.2f}\")"
   ]
  },
  {
   "cell_type": "markdown",
   "id": "7f0b139f",
   "metadata": {},
   "source": [
    "### (c) What is the odds ratio and log-odds for the student in (a)? And what does the odds ratio mean?   "
   ]
  },
  {
   "cell_type": "code",
   "execution_count": 16,
   "id": "809a775a",
   "metadata": {},
   "outputs": [
    {
     "name": "stdout",
     "output_type": "stream",
     "text": [
      "Part (c)\n",
      "  Odds (p/(1-p)) for these inputs: 0.22\n",
      "  Log-odds: -1.50\n",
      "  Interpretation: For every 1 student predicted to earn an A, ~4.48 students are predicted not to (given these inputs).\n"
     ]
    }
   ],
   "source": [
    "# Odds (p / (1 - p)) equal exp(log-odds) for logistic regression outputs.\n",
    "odds_a = np.exp(predicted_score)\n",
    "\n",
    "print(\"Part (c)\")\n",
    "print(f\"  Odds (p/(1-p)) for these inputs: {odds_a:.2f}\")\n",
    "print(f\"  Log-odds: {predicted_score:.2f}\")\n",
    "print(f\"  Interpretation: For every 1 student predicted to earn an A, ~{(1 / odds_a):.2f} students are predicted not to (given these inputs).\")"
   ]
  },
  {
   "cell_type": "markdown",
   "id": "18008878",
   "metadata": {},
   "source": [
    "### (d) Visualize the model (the linear hyperplane) with a simple line plot where 𝑋1 is on the 𝑥-axis and 𝑋2 on the 𝑦-axis. Also indicate the region for A grade (positive, 𝑦 = 1) and region for non-A grade (negative) in the figure.  (Hint: you can draw the plot manually or with the help of any software.)"
   ]
  },
  {
   "cell_type": "code",
   "execution_count": null,
   "id": "ff3850c6",
   "metadata": {
    "vscode": {
     "languageId": "r"
    }
   },
   "outputs": [],
   "source": [
    "# make X1 range (hours studied)\n",
    "X1 = np.linspace(0, 120, 100)\n",
    "\n",
    "# decision boundary line (where p = 0.5 -> f(x)=0)\n",
    "X2 = 7 - 0.05 * X1\n",
    "\n",
    "# plot\n",
    "plt.plot(X1, X2, 'k', label='Decision Boundary (p=0.5)')\n",
    "\n",
    "# fill the two regions\n",
    "plt.fill_between(X1, X2, 7, color='lightgreen', alpha=0.3, label='A region (y=1)')\n",
    "plt.fill_between(X1, 0, X2, color='lightcoral', alpha=0.3, label='Non-A region (y=0)')\n",
    "\n",
    "plt.xlabel('Hours Studied (X1)')\n",
    "plt.ylabel('GPA (X2)')\n",
    "plt.xlim(0, 120)\n",
    "plt.ylim(0, 7)\n",
    "plt.legend()\n",
    "plt.show()"
   ]
  }
 ],
 "metadata": {
  "kernelspec": {
   "display_name": "base",
   "language": "python",
   "name": "python3"
  },
  "language_info": {
   "codemirror_mode": {
    "name": "ipython",
    "version": 3
   },
   "file_extension": ".py",
   "mimetype": "text/x-python",
   "name": "python",
   "nbconvert_exporter": "python",
   "pygments_lexer": "ipython3",
   "version": "3.13.5"
  }
 },
 "nbformat": 4,
 "nbformat_minor": 5
}
