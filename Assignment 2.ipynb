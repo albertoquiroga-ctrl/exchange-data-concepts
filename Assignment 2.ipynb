{
 "cells": [
  {
   "cell_type": "markdown",
   "id": "fe87a9b6",
   "metadata": {},
   "source": [
    "# Assignment 2 Notebook Overview\n",
    "\n",
    "> Note 1: for answers with Python, display both codes and results clearly. You may explain \n",
    "answers with either comments, markdowns or print() function.\n",
    "\n",
    "> Note 2: for answers with manual calculation, please display all calculation steps clearly. \n",
    "\n",
    "> Note 3: round all numerical answers to 2 decimal places.    "
   ]
  },
  {
   "cell_type": "markdown",
   "id": "0fcbe171",
   "metadata": {},
   "source": [
    "## 0. Environment Setup and First Look\n",
    "\n",
    "Load helper libraries, style the plotting backend, and pull the shared `smoking.csv` dataset for reuse across later sections."
   ]
  },
  {
   "cell_type": "code",
   "execution_count": 3,
   "id": "b29362a2",
   "metadata": {},
   "outputs": [],
   "source": [
    "import pandas as pd\n",
    "import numpy as np\n",
    "import matplotlib.pyplot as plt\n",
    "\n",
    "from sklearn.linear_model import LogisticRegression\n",
    "from sklearn.model_selection import train_test_split\n",
    "from sklearn.preprocessing import MinMaxScaler\n",
    "from sklearn.metrics import accuracy_score  "
   ]
  },
  {
   "cell_type": "markdown",
   "id": "d1f7a4df",
   "metadata": {},
   "source": [
    "### First Look"
   ]
  },
  {
   "cell_type": "code",
   "execution_count": 4,
   "id": "06bb2a38",
   "metadata": {},
   "outputs": [
    {
     "ename": "NameError",
     "evalue": "name 'Path' is not defined",
     "output_type": "error",
     "traceback": [
      "\u001b[31m---------------------------------------------------------------------------\u001b[39m",
      "\u001b[31mNameError\u001b[39m                                 Traceback (most recent call last)",
      "\u001b[36mCell\u001b[39m\u001b[36m \u001b[39m\u001b[32mIn[4]\u001b[39m\u001b[32m, line 3\u001b[39m\n\u001b[32m      1\u001b[39m \u001b[38;5;66;03m# Load the assignment dataset (ships with the notebook repository)\u001b[39;00m\n\u001b[32m      2\u001b[39m \u001b[38;5;66;03m# ------------------------------------------------------------------\u001b[39;00m\n\u001b[32m----> \u001b[39m\u001b[32m3\u001b[39m DATA_PATH = \u001b[43mPath\u001b[49m(\u001b[33m\"\u001b[39m\u001b[33msmoking.csv\u001b[39m\u001b[33m\"\u001b[39m)          \u001b[38;5;66;03m# update if you store the CSV elsewhere\u001b[39;00m\n\u001b[32m      4\u001b[39m smoking_df = pd.read_csv(DATA_PATH)      \u001b[38;5;66;03m# load the CSV into a pandas DataFrame\u001b[39;00m\n\u001b[32m      6\u001b[39m \u001b[38;5;66;03m# ------------------------------------------------------------------\u001b[39;00m\n\u001b[32m      7\u001b[39m \u001b[38;5;66;03m# Lightweight structural checks (verbose on purpose for clarity)\u001b[39;00m\n\u001b[32m      8\u001b[39m \u001b[38;5;66;03m# ------------------------------------------------------------------\u001b[39;00m\n",
      "\u001b[31mNameError\u001b[39m: name 'Path' is not defined"
     ]
    }
   ],
   "source": [
    "# Load the assignment dataset (ships with the notebook repository)\n",
    "# ------------------------------------------------------------------\n",
    "DATA_PATH = Path(\"smoking.csv\")          # update if you store the CSV elsewhere\n",
    "smoking_df = pd.read_csv(DATA_PATH)      # load the CSV into a pandas DataFrame\n",
    "\n",
    "# ------------------------------------------------------------------\n",
    "# Lightweight structural checks (verbose on purpose for clarity)\n",
    "# ------------------------------------------------------------------\n",
    "print(\"Dataset overview\")\n",
    "print(f\"Rows:    {smoking_df.shape[0]}\")\n",
    "print(f\"Columns: {smoking_df.shape[1]}\")\n",
    "print(\"Column names in order:\")\n",
    "display(smoking_df.info())  # includes non-null counts and types\n",
    "print(\"Summary stats for numeric + categorical\")\n",
    "display(smoking_df.describe().T)  # transpose for better readability\n",
    "print(\"First 5 rows\")\n",
    "display(smoking_df.head())  # first 5 rows"
   ]
  },
  {
   "cell_type": "markdown",
   "id": "f24ae9b5",
   "metadata": {},
   "source": [
    "## 1. Question 1 - Logistic Regression Walkthrough\n",
    "\n",
    "Suppose we collect data for a group of students in a course with variables 𝑋1 = ℎ𝑜𝑢𝑟𝑠 𝑠𝑡𝑢𝑑𝑖𝑒𝑑, 𝑋2 = 𝐶𝑢𝑚𝑢𝑙𝑎𝑡𝑖𝑣𝑒  𝑃𝐴, and 𝑦 = 1 if the student receives an A in this course and 𝑦 = 0 otherwise. We trained a logistic regression model on this dataset to predict whether a student can receive A with features 𝑋1 and 𝑋2, the estimated parameters are  𝑤0 = −7, 𝑤1 = 0.05, 𝑤2 = 1.  Answer the following questions with either Python or manual calculation.  "
   ]
  },
  {
   "cell_type": "code",
   "execution_count": null,
   "id": "62f39d2d",
   "metadata": {},
   "outputs": [],
   "source": [
    "w0 = -7.0   # intercept term\n",
    "w1 = 0.05   # coefficient for X1 = hours studied\n",
    "w2 = 1.0    # coefficient for X2 = cumulative GPA"
   ]
  },
  {
   "cell_type": "markdown",
   "id": "56f85abc",
   "metadata": {},
   "source": [
    "### (a) What is the probability that a student who studies for 40 hours and has a cumulative GPA of 3.5 gets an A in the class?   "
   ]
  },
  {
   "cell_type": "code",
   "execution_count": null,
   "id": "2e4e6379",
   "metadata": {},
   "outputs": [
    {
     "name": "stdout",
     "output_type": "stream",
     "text": [
      "Part (a)\n",
      "  The predicted probability that a student who studies for 40 hours and has a cumulative GPA of 3.5 gets an A in the class is approximately 0.18\n"
     ]
    }
   ],
   "source": [
    "hours_example = 40        # X1 from the problem statement\n",
    "gpa_example = 3.5         # X2 from the problem statement\n",
    "\n",
    "# Compute the predicted score using the linear model\n",
    "predicted_score = w0 + w1 * hours_example + w2 * gpa_example\n",
    "\n",
    "# Compute the predicted probability using the logistic function (sigmoid)\n",
    "predicted_probability = 1 / (1 + np.exp(-predicted_score))\n",
    "\n",
    "print(\"Part (a)\")\n",
    "print(f\"  The predicted probability that a student who studies for {hours_example} hours and has a cumulative GPA of {gpa_example} gets an A in the class is approximately {predicted_probability:.2f}\")"
   ]
  },
  {
   "cell_type": "markdown",
   "id": "a32c1624",
   "metadata": {},
   "source": [
    "### (b) How many hours would the student in step (a) need to study to have a 50% chance of getting an A in the class? "
   ]
  },
  {
   "cell_type": "code",
   "execution_count": null,
   "id": "a8d13ad3",
   "metadata": {},
   "outputs": [
    {
     "name": "stdout",
     "output_type": "stream",
     "text": [
      "Part (b)\n",
      "  Hours needed for 50% chance (same GPA): 70.00\n"
     ]
    }
   ],
   "source": [
    "# Solve w0 + w1 * hours + w2 * GPA = 0 for hours when GPA stays at 3.5\n",
    "# (since logit = 0 corresponds to P = 0.5).\n",
    "target_probability = 0.50\n",
    "target_logit = np.log(target_probability / (1 - target_probability))  # equals 0.0\n",
    "hours_for_half = (-w0 - w2 * gpa_example) / w1\n",
    "\n",
    "print(\"Part (b)\")\n",
    "print(f\"  Hours needed for 50% chance (same GPA): {hours_for_half:.2f}\")"
   ]
  },
  {
   "cell_type": "markdown",
   "id": "7f0b139f",
   "metadata": {},
   "source": [
    "### (c) What is the odds ratio and log-odds for the student in (a)? And what does the odds ratio mean?   "
   ]
  },
  {
   "cell_type": "code",
   "execution_count": null,
   "id": "809a775a",
   "metadata": {},
   "outputs": [
    {
     "name": "stdout",
     "output_type": "stream",
     "text": [
      "Part (c)\n",
      "  Odds (p/(1-p)) for these inputs: 0.22\n",
      "  Log-odds: -1.50\n",
      "  Interpretation: For every 1 student predicted to earn an A, ~4.48 students are predicted not to (given these inputs).\n"
     ]
    }
   ],
   "source": [
    "# Odds (p / (1 - p)) equal exp(log-odds) for logistic regression outputs.\n",
    "odds_a = np.exp(predicted_score)\n",
    "\n",
    "print(\"Part (c)\")\n",
    "print(f\"  Odds (p/(1-p)) for these inputs: {odds_a:.2f}\")\n",
    "print(f\"  Log-odds: {predicted_score:.2f}\")\n",
    "print(f\"  Interpretation: For every 1 student predicted to earn an A, ~{(1 / odds_a):.2f} students are predicted not to (given these inputs).\")"
   ]
  },
  {
   "cell_type": "markdown",
   "id": "18008878",
   "metadata": {},
   "source": [
    "### (d) Visualize the model (the linear hyperplane) with a simple line plot where 𝑋1 is on the 𝑥-axis and 𝑋2 on the 𝑦-axis. Also indicate the region for A grade (positive, 𝑦 = 1) and region for non-A grade (negative) in the figure.  (Hint: you can draw the plot manually or with the help of any software.)"
   ]
  },
  {
   "cell_type": "code",
   "execution_count": null,
   "id": "ff3850c6",
   "metadata": {
    "vscode": {
     "languageId": "r"
    }
   },
   "outputs": [],
   "source": [
    "import numpy as np\n",
    "import matplotlib.pyplot as plt\n",
    "\n",
    "# Create data points\n",
    "x1 = np.linspace(-10, 10, 100)\n",
    "x2 = -2*x1 + 5  # Example hyperplane equation: 2x1 + x2 - 5 = 0\n",
    "\n",
    "# Create the plot\n",
    "matplotlib.pyplot.figure(figsize=(10, 8))\n",
    "matplotlib.pyplot.plot(x1, x2, 'b-', label='Decision Boundary')\n",
    "\n",
    "# Fill regions\n",
    "matplotlib.pyplot.fill_between(x1, x2, 15, alpha=0.3, color='green', label='A Grade (y=1)')\n",
    "matplotlib.pyplot.fill_between(x1, x2, -15, alpha=0.3, color='red', label='Non-A Grade (y=0)')\n",
    "\n",
    "# Add labels and title\n",
    "matplotlib.pyplot.xlabel('X₁')\n",
    "matplotlib.pyplot.ylabel('X₂')\n",
    "matplotlib.pyplot.title('Linear Decision Boundary for Grade Classification')\n",
    "matplotlib.pyplot.grid(True)\n",
    "matplotlib.pyplot.legend()\n",
    "\n",
    "# Set axis limits\n",
    "matplotlib.pyplot.xlim(-10, 10)\n",
    "matplotlib.pyplot.ylim(-10, 10)\n",
    "\n",
    "# Add origin lines\n",
    "matplotlib.pyplot.axhline(y=0, color='k', linestyle='-', alpha=0.3)\n",
    "matplotlib.pyplot.axvline(x=0, color='k', linestyle='-', alpha=0.3)\n",
    "\n",
    "matplotlib.pyplot.show()"
   ]
  }
 ],
 "metadata": {
  "kernelspec": {
   "display_name": "base",
   "language": "python",
   "name": "python3"
  },
  "language_info": {
   "codemirror_mode": {
    "name": "ipython",
    "version": 3
   },
   "file_extension": ".py",
   "mimetype": "text/x-python",
   "name": "python",
   "nbconvert_exporter": "python",
   "pygments_lexer": "ipython3",
   "version": "3.13.5"
  }
 },
 "nbformat": 4,
 "nbformat_minor": 5
}
